{
 "cells": [
  {
   "cell_type": "markdown",
   "metadata": {},
   "source": [
    "# Data Preprocessing\n",
    "\n",
    "### Here are some important things to understand for data preprocessing in supervised machine learning. \n",
    "\n",
    "### A general guide to data preprocessing: https://www.kaggle.com/code/farzadnekouei/flight-data-eda-to-preprocessing#Step-3-|-Dataset-Overview "
   ]
  },
  {
   "cell_type": "markdown",
   "metadata": {},
   "source": [
    "## Categorical Variables Encoding\n",
    "\n",
    "### Why:\n",
    "- Machine Learning Algorithms Require Numerical Input: <span style=\"color:orange;\">Most machine learning algorithms, particularly those based on mathematical computations such as linear regression, logistic regression, and support vector machines, require numerical input. These algorithms cannot directly process categorical data in their raw form</span>\n",
    "\n",
    "- Improves Model Performance: <span style=\"color:orange;\">Encoding categorical variables can help improve the performance of a model. Proper encoding allows the model to interpret categorical data correctly, leading to more accurate predictions. For instance, one-hot encoding can help the model treat each category as distinct, while ordinal encoding can preserve the order in ordinal data.</span>\n",
    "\n",
    "- Handles High Cardinality: <span style=\"color:orange;\">Encoding techniques like target encoding or frequency encoding can be beneficial when dealing with high cardinality categorical variables (i.e., variables with many unique categories). These techniques can help reduce dimensionality while still capturing important information from the categories.</span>\n",
    "\n",
    "- Prevents Ordinal Assumptions: <span style=\"color:orange;\">One-hot encoding prevents the model from assuming any ordinal relationship between categories that are nominal. For example, encoding colors (\"red\", \"green\", \"blue\") with one-hot encoding ensures that the model does not treat \"green\" as being between \"red\" and \"blue\".</span>\n",
    "\n",
    "- Enhances Interpretability: <span style=\"color:orange;\">Some encoding methods, such as target encoding, can enhance the interpretability of the model by linking categories directly to the target variable. This can be useful for understanding the impact of different categories on the prediction.</span>\n",
    "\n",
    "- Reduces Overfitting: <span style=\"color:orange;\">Encoding techniques can also help in reducing overfitting. For example, binary encoding reduces the number of features compared to one-hot encoding, which can help in preventing the model from memorizing the training data.</span>\n",
    "\n",
    "- Compatibility with Algorithms: <span style=\"color:orange;\">Certain algorithms, such as tree-based models (e.g., decision trees, random forests), can handle categorical data more flexibly. However, even for these algorithms, encoding can help in improving the efficiency and performance of the model.</span>\n",
    "\n",
    "- Data Consistency: <span style=\"color:orange;\">Encoding ensures that the data fed into the model is consistent and in a suitable format. This consistency is crucial for maintaining the integrity of the training process and ensuring reliable predictions.</span>"
   ]
  },
  {
   "cell_type": "code",
   "execution_count": 9,
   "metadata": {},
   "outputs": [],
   "source": [
    "# Import libraries  \n",
    "import numpy as np \n",
    "import pandas as pd \n",
    "from sklearn import preprocessing \n",
    "from tabulate import tabulate"
   ]
  },
  {
   "cell_type": "markdown",
   "metadata": {},
   "source": [
    "### Examples of Encoding\n",
    "\n",
    "**1. Label Encoding**\n",
    "- Description: Assigns each unique category a different integer value\n",
    "- Use Case: Suitable for ordinal categorical variables where the categories have an inherent order\n"
   ]
  },
  {
   "cell_type": "code",
   "execution_count": 14,
   "metadata": {},
   "outputs": [
    {
     "data": {
      "text/plain": [
       "array([0, 1, 2], dtype=int8)"
      ]
     },
     "execution_count": 14,
     "metadata": {},
     "output_type": "execute_result"
    }
   ],
   "source": [
    "cat_var = [\"low\", \"medium\", \"high\"]  \n",
    "cat_var = pd.Categorical(cat_var, categories=[\"low\", \"medium\", \"high\"], ordered=True) \n",
    "cat_var = cat_var.codes\n",
    "cat_var"
   ]
  },
  {
   "cell_type": "markdown",
   "metadata": {},
   "source": [
    "**2. One-Hot Encoding**\n",
    "- Description: Creates a new binary column for each category\n",
    "- Use Case: Suitable for nominal categorical variables with no intrinsic order"
   ]
  },
  {
   "cell_type": "code",
   "execution_count": 19,
   "metadata": {},
   "outputs": [
    {
     "name": "stdout",
     "output_type": "stream",
     "text": [
      "------\n",
      "apple\n",
      "banana\n",
      "melon\n",
      "orange\n",
      "------\n",
      "-  -  -  -\n",
      "1  0  0  0\n",
      "0  1  0  0\n",
      "0  0  1  0\n",
      "0  0  0  1\n",
      "-  -  -  -\n"
     ]
    }
   ],
   "source": [
    "from sklearn.preprocessing import OneHotEncoder\n",
    "\n",
    "cat_var = [[\"apple\"], [\"banana\"], [\"melon\"], [\"orange\"]] #requires 2d array for one-hot encoding\n",
    "print(tabulate(cat_var))\n",
    "encoder = OneHotEncoder(sparse_output=False)\n",
    "cat_var = encoder.fit_transform(cat_var)\n",
    "print(tabulate(cat_var))"
   ]
  },
  {
   "cell_type": "markdown",
   "metadata": {},
   "source": [
    "**3. Binary Encoding**\n",
    "- Description: Converts categories to binary digits and then splits them into separate columns\n",
    "- Use Case: Useful when there are a large number of categories and one-hot encoding would create too many columns"
   ]
  },
  {
   "cell_type": "code",
   "execution_count": 25,
   "metadata": {},
   "outputs": [
    {
     "name": "stdout",
     "output_type": "stream",
     "text": [
      "--  ------\n",
      " 0  green\n",
      " 1  red\n",
      " 2  blue\n",
      " 3  pink\n",
      " 4  black\n",
      " 5  white\n",
      " 6  brown\n",
      " 7  purple\n",
      " 8  yellow\n",
      " 9  grey\n",
      "10  wheat\n",
      "--  ------\n",
      "--  -  -  -  -\n",
      " 0  0  0  0  1\n",
      " 1  0  0  1  0\n",
      " 2  0  0  1  1\n",
      " 3  0  1  0  0\n",
      " 4  0  1  0  1\n",
      " 5  0  1  1  0\n",
      " 6  0  1  1  1\n",
      " 7  1  0  0  0\n",
      " 8  1  0  0  1\n",
      " 9  1  0  1  0\n",
      "10  1  0  1  1\n",
      "--  -  -  -  -\n"
     ]
    }
   ],
   "source": [
    "import category_encoders as ce\n",
    "\n",
    "df = pd.DataFrame({'cat_var':['green','red','blue','pink','black','white',\n",
    "           'brown','purple','yellow','grey','wheat']})\n",
    "print(tabulate(df))\n",
    "encoder = ce.BinaryEncoder(cols=['cat_var'])\n",
    "df = encoder.fit_transform(df)\n",
    "print(tabulate(df))\n"
   ]
  },
  {
   "cell_type": "markdown",
   "metadata": {},
   "source": [
    "**4. Frequency Encoding**\n",
    "- Description: Replaces each category with its frequency in the dataset\n",
    "- Use Case: When the frequency of categories can provide useful information to the model"
   ]
  },
  {
   "cell_type": "code",
   "execution_count": 31,
   "metadata": {},
   "outputs": [
    {
     "name": "stdout",
     "output_type": "stream",
     "text": [
      "-  -----\n",
      "0  blue\n",
      "1  red\n",
      "2  blue\n",
      "3  blue\n",
      "4  blue\n",
      "5  blue\n",
      "6  green\n",
      "7  red\n",
      "8  red\n",
      "9  blue\n",
      "-  -----\n",
      "-  ----\n",
      "0  0.45\n",
      "1  0.2\n",
      "2  0.45\n",
      "3  0.45\n",
      "4  0.45\n",
      "5  0.45\n",
      "6  0.35\n",
      "7  0.2\n",
      "8  0.2\n",
      "9  0.45\n",
      "-  ----\n"
     ]
    }
   ],
   "source": [
    "cat_var = np.random.choice(['green', 'blue', 'red'], size=20, p=[0.3, 0.5, 0.2]) #note: generate each number with frequency given independently\n",
    "df = pd.DataFrame({'cat_var': cat_var})\n",
    "print(tabulate(df.head(10)))\n",
    "df['cat_var'] = df['cat_var'].map(df['cat_var'].value_counts(normalize=True))\n",
    "print(tabulate(df.head(10)))"
   ]
  },
  {
   "cell_type": "markdown",
   "metadata": {},
   "source": [
    "**5. Target Encoding (Mean Encoding)**\n",
    "- Description: Replaces each category with the mean of the target variable for that category\n",
    "- Use Case: Useful for high cardinality categorical features, particularly in classification problems"
   ]
  },
  {
   "cell_type": "code",
   "execution_count": 33,
   "metadata": {},
   "outputs": [
    {
     "name": "stdout",
     "output_type": "stream",
     "text": [
      "-  -----  --\n",
      "0  blue    8\n",
      "1  blue    1\n",
      "2  green   8\n",
      "3  green   4\n",
      "4  blue   10\n",
      "5  blue    7\n",
      "6  red     1\n",
      "7  green   2\n",
      "8  green   2\n",
      "9  blue    9\n",
      "-  -----  --\n",
      "-  -----  --\n",
      "0  6.3     8\n",
      "1  6.3     1\n",
      "2  3.875   8\n",
      "3  3.875   4\n",
      "4  6.3    10\n",
      "5  6.3     7\n",
      "6  5       1\n",
      "7  3.875   2\n",
      "8  3.875   2\n",
      "9  6.3     9\n",
      "-  -----  --\n"
     ]
    }
   ],
   "source": [
    "cat_var = np.random.choice(['green', 'blue', 'red'], size=20, p=[0.3, 0.5, 0.2])\n",
    "target_var = np.random.randint(0, 11, size=20)\n",
    "df = pd.DataFrame({'cat_var': cat_var, 'target_var': target_var})\n",
    "print(tabulate(df.head(10)))\n",
    "target_mean = df.groupby('cat_var')['target_var'].mean()\n",
    "df['cat_var'] = df['cat_var'].map(target_mean)\n",
    "print(tabulate(df.head(10)))"
   ]
  },
  {
   "cell_type": "markdown",
   "metadata": {},
   "source": [
    "**6. Ordinal Encoding**\n",
    "- Description: Assigns each unique category an integer value, respecting the order\n",
    "- Use Case: Specifically for ordinal variables where categories have a defined order"
   ]
  },
  {
   "cell_type": "code",
   "execution_count": 42,
   "metadata": {},
   "outputs": [
    {
     "name": "stdout",
     "output_type": "stream",
     "text": [
      "------\n",
      "low\n",
      "medium\n",
      "high\n",
      "------\n",
      "-\n",
      "0\n",
      "1\n",
      "2\n",
      "-\n"
     ]
    }
   ],
   "source": [
    "from sklearn.preprocessing import OrdinalEncoder\n",
    "\n",
    "cat_var = [['low'], ['medium'], ['high']] #2-d array\n",
    "print(tabulate(cat_var))\n",
    "encoder = OrdinalEncoder(categories=[['low','medium','high']]) #order the category\n",
    "cat_var = encoder.fit_transform(cat_var)\n",
    "print(tabulate(cat_var))"
   ]
  },
  {
   "cell_type": "markdown",
   "metadata": {},
   "source": [
    "**7. Hashing Encoding**\n",
    "- Description: Applies a hash function to the category to convert it to a fixed-size vector\n",
    "- Use Case: Useful when the number of unique categories is very large\n",
    "- The number of components we use depends on many factors such as the size of the data and the number of unique categories"
   ]
  },
  {
   "cell_type": "code",
   "execution_count": 84,
   "metadata": {},
   "outputs": [
    {
     "name": "stdout",
     "output_type": "stream",
     "text": [
      "------\n",
      "green\n",
      "red\n",
      "blue\n",
      "pink\n",
      "black\n",
      "white\n",
      "brown\n",
      "purple\n",
      "yellow\n",
      "grey\n",
      "------\n",
      "-  ------  -  --  --  --  --  --  -\n",
      "0  green   0   0   0   0   0   1  0\n",
      "1  red     0   0  -1   0   0   0  0\n",
      "2  blue    0   0   0   0  -1   0  0\n",
      "3  pink    0   0   0   1   0   0  0\n",
      "4  black   0   0   0  -1   0   0  0\n",
      "5  white   0   0   0   0   0  -1  0\n",
      "6  brown   0   1   0   0   0   0  0\n",
      "7  purple  0   0   0   0   0   0  1\n",
      "8  yellow  0   0   0   0   1   0  0\n",
      "9  grey    0  -1   0   0   0   0  0\n",
      "-  ------  -  --  --  --  --  --  -\n"
     ]
    }
   ],
   "source": [
    "from sklearn.feature_extraction import FeatureHasher\n",
    "\n",
    "\n",
    "cat_var = [['green'], ['red'], ['blue'], ['pink'], ['black'], ['white'], ['brown'], ['purple'], ['yellow'], ['grey']]\n",
    "print(tabulate(cat_var))\n",
    "encoder = FeatureHasher(n_features=7, input_type='string')\n",
    "cat_var_encoded = encoder.transform(cat_var).toarray()\n",
    "df = pd.DataFrame(cat_var_encoded)\n",
    "df = pd.concat([pd.DataFrame(cat_var), df], axis=1)\n",
    "print(tabulate(df))"
   ]
  },
  {
   "cell_type": "markdown",
   "metadata": {},
   "source": [
    "# Feature Selection\n",
    "\n",
    "## WHY\n",
    "- **Model Performance**: <span style=\"color:orange;\">Using relevant features can enhance model accuracy and generalization by focusing on the most informative variables</span>\n",
    "- **Overfitting Reduction**: <span style=\"color:orange;\">Reducing the number of features can decrease the risk of overfitting, where the model learns noise rather than the underlying pattern</span>\n",
    "- **Computational Efficiency**: <span style=\"color:orange;\">Fewer features mean faster training times and reduced resource consumption</span>\n",
    "- **Interpretability**: <span style=\"color:orange;\">Models with fewer features are easier to understand and interpret, which is crucial in many applications</span>"
   ]
  },
  {
   "cell_type": "markdown",
   "metadata": {},
   "source": [
    "## Type of Feature Selection\n",
    "\n",
    "### 1. Filter Methods (quick, computationally inexpensive)\n",
    "#### Overview: These methods evaluate the relevance of features by examining their intrinsic properties.\n",
    "#### Techniques:\n",
    "- **Correlation Coefficient**: Measures the linear relationship between each feature and the target variable\n",
    "- **Chi-Square Test**: Evaluates the independence of categorical features with respect to the target variable\n",
    "- **Mutual Information**: Assesses the dependency between each feature and the target\n",
    "- **Variance Threshold**: Removes features with low variance, assuming they have little information\n",
    "\n",
    "\n",
    "### 2. Wrapper Methods (computationally intensive)\n",
    "#### Overview: These methods evaluate feature subsets based on model performance\n",
    "#### Techniques:\n",
    "- **Forward Selection**: Starts with no features and adds them one by one based on model improvement\n",
    "- **Backward Elimination**: Starts with all features and removes them one by one based on model performance\n",
    "- **Recursive Feature Elimination (RFE)**: Recursively removes the least important features and builds the model\n",
    "\n",
    "### 3. Regularization Methods (for high-dimensional data or many irrelevant features)\n",
    "#### Overview: These methods perform feature selection during the model training process\n",
    "#### Techniques:\n",
    "- **Lasso (L1 Regularization)**: Shrinks less important feature coefficients to zero\n",
    "- **Ridge (L2 Regularization)**: Penalizes the size of coefficients but does not perform feature selection per se\n",
    "- **Elastic Net**: Combines L1 and L2 regularization to select features and shrink coefficients\n"
   ]
  },
  {
   "cell_type": "markdown",
   "metadata": {},
   "source": [
    "## Evaluation Criteria for Feature Selection\n",
    "- **Relevance**: The feature's ability to predict the target variable\n",
    "- **Redundancy**: The degree to which a feature is redundant with respect to other features\n",
    "- **Interaction**: The feature's contribution in the presence of other features\n",
    "\n",
    "\n",
    "## Practical Steps in Feature Selection\n",
    "\n",
    "- **Understand the Data**: Explore and preprocess the data (handling missing values, encoding categorical variables)\n",
    "- **Initial Filtering**: Use filter methods to remove irrelevant or redundant features\n",
    "- **Model-Based Selection**: Apply wrapper or embedded methods to further refine the feature set\n",
    "- **Validation**: Validate the selected features using cross-validation to ensure they generalize well to unseen data\n",
    "- **Iterate**: Feature selection is an iterative process. Revisit and refine the feature set as necessary based on model performance and new insights\n",
    "\n",
    "## Common Pitfalls in Feature Selection\n",
    "- **Ignoring Domain Knowledge**: Failing to incorporate domain expertise can lead to the exclusion of important features\n",
    "- **Overfitting in Feature Selection**: Performing feature selection on the entire dataset can lead to overfitting. Always use cross-validation\n",
    "- **Too Many Features**: Even with selection, having too many features can still lead to overfitting and high variance\n",
    "\n"
   ]
  },
  {
   "cell_type": "markdown",
   "metadata": {},
   "source": [
    "## Examples\n",
    "\n",
    "### 1. Filter Methods"
   ]
  },
  {
   "cell_type": "markdown",
   "metadata": {},
   "source": [
    "#### a. Correlation Coefficient"
   ]
  },
  {
   "cell_type": "code",
   "execution_count": 18,
   "metadata": {},
   "outputs": [
    {
     "name": "stdout",
     "output_type": "stream",
     "text": [
      "Original Dataframe Shape:  (569, 30)\n",
      "+----+---------------+----------------+------------------+-------------+-------------------+--------------------+------------------+-----------------------+-----------------+--------------------------+----------------+-----------------+-------------------+--------------+--------------------+---------------------+-------------------+------------------------+------------------+---------------------------+----------------+-----------------+-------------------+--------------+--------------------+---------------------+-------------------+------------------------+------------------+---------------------------+\n",
      "|    |   mean radius |   mean texture |   mean perimeter |   mean area |   mean smoothness |   mean compactness |   mean concavity |   mean concave points |   mean symmetry |   mean fractal dimension |   radius error |   texture error |   perimeter error |   area error |   smoothness error |   compactness error |   concavity error |   concave points error |   symmetry error |   fractal dimension error |   worst radius |   worst texture |   worst perimeter |   worst area |   worst smoothness |   worst compactness |   worst concavity |   worst concave points |   worst symmetry |   worst fractal dimension |\n",
      "|----+---------------+----------------+------------------+-------------+-------------------+--------------------+------------------+-----------------------+-----------------+--------------------------+----------------+-----------------+-------------------+--------------+--------------------+---------------------+-------------------+------------------------+------------------+---------------------------+----------------+-----------------+-------------------+--------------+--------------------+---------------------+-------------------+------------------------+------------------+---------------------------|\n",
      "|  0 |         17.99 |          10.38 |           122.8  |      1001   |           0.1184  |            0.2776  |           0.3001 |               0.1471  |          0.2419 |                  0.07871 |         1.095  |          0.9053 |             8.589 |       153.4  |           0.006399 |             0.04904 |           0.05373 |                0.01587 |          0.03003 |                  0.006193 |          25.38 |           17.33 |            184.6  |       2019   |             0.1622 |              0.6656 |            0.7119 |                 0.2654 |           0.4601 |                   0.1189  |\n",
      "|  1 |         20.57 |          17.77 |           132.9  |      1326   |           0.08474 |            0.07864 |           0.0869 |               0.07017 |          0.1812 |                  0.05667 |         0.5435 |          0.7339 |             3.398 |        74.08 |           0.005225 |             0.01308 |           0.0186  |                0.0134  |          0.01389 |                  0.003532 |          24.99 |           23.41 |            158.8  |       1956   |             0.1238 |              0.1866 |            0.2416 |                 0.186  |           0.275  |                   0.08902 |\n",
      "|  2 |         19.69 |          21.25 |           130    |      1203   |           0.1096  |            0.1599  |           0.1974 |               0.1279  |          0.2069 |                  0.05999 |         0.7456 |          0.7869 |             4.585 |        94.03 |           0.00615  |             0.04006 |           0.03832 |                0.02058 |          0.0225  |                  0.004571 |          23.57 |           25.53 |            152.5  |       1709   |             0.1444 |              0.4245 |            0.4504 |                 0.243  |           0.3613 |                   0.08758 |\n",
      "|  3 |         11.42 |          20.38 |            77.58 |       386.1 |           0.1425  |            0.2839  |           0.2414 |               0.1052  |          0.2597 |                  0.09744 |         0.4956 |          1.156  |             3.445 |        27.23 |           0.00911  |             0.07458 |           0.05661 |                0.01867 |          0.05963 |                  0.009208 |          14.91 |           26.5  |             98.87 |        567.7 |             0.2098 |              0.8663 |            0.6869 |                 0.2575 |           0.6638 |                   0.173   |\n",
      "|  4 |         20.29 |          14.34 |           135.1  |      1297   |           0.1003  |            0.1328  |           0.198  |               0.1043  |          0.1809 |                  0.05883 |         0.7572 |          0.7813 |             5.438 |        94.44 |           0.01149  |             0.02461 |           0.05688 |                0.01885 |          0.01756 |                  0.005115 |          22.54 |           16.67 |            152.2  |       1575   |             0.1374 |              0.205  |            0.4    |                 0.1625 |           0.2364 |                   0.07678 |\n",
      "+----+---------------+----------------+------------------+-------------+-------------------+--------------------+------------------+-----------------------+-----------------+--------------------------+----------------+-----------------+-------------------+--------------+--------------------+---------------------+-------------------+------------------------+------------------+---------------------------+----------------+-----------------+-------------------+--------------+--------------------+---------------------+-------------------+------------------------+------------------+---------------------------+\n",
      "After Correlation Coefficient Dataframe Shape:  (569, 10)\n",
      "+----+-------------+-----------------------+------------------+------------------+---------------+--------------+------------------------+-------------------+-------------------+----------------+\n",
      "|    |   mean area |   mean concave points |   mean concavity |   mean perimeter |   mean radius |   worst area |   worst concave points |   worst concavity |   worst perimeter |   worst radius |\n",
      "|----+-------------+-----------------------+------------------+------------------+---------------+--------------+------------------------+-------------------+-------------------+----------------|\n",
      "|  0 |      1001   |               0.1471  |           0.3001 |           122.8  |         17.99 |       2019   |                 0.2654 |            0.7119 |            184.6  |          25.38 |\n",
      "|  1 |      1326   |               0.07017 |           0.0869 |           132.9  |         20.57 |       1956   |                 0.186  |            0.2416 |            158.8  |          24.99 |\n",
      "|  2 |      1203   |               0.1279  |           0.1974 |           130    |         19.69 |       1709   |                 0.243  |            0.4504 |            152.5  |          23.57 |\n",
      "|  3 |       386.1 |               0.1052  |           0.2414 |            77.58 |         11.42 |        567.7 |                 0.2575 |            0.6869 |             98.87 |          14.91 |\n",
      "|  4 |      1297   |               0.1043  |           0.198  |           135.1  |         20.29 |       1575   |                 0.1625 |            0.4    |            152.2  |          22.54 |\n",
      "+----+-------------+-----------------------+------------------+------------------+---------------+--------------+------------------------+-------------------+-------------------+----------------+\n"
     ]
    }
   ],
   "source": [
    "import pandas as pd\n",
    "from sklearn.datasets import load_breast_cancer\n",
    "from tabulate import tabulate\n",
    "\n",
    "# Load the breast cancer dataset\n",
    "data = load_breast_cancer()\n",
    "X = pd.DataFrame(data.data, columns=data.feature_names)\n",
    "print(\"Original Dataframe Shape: \", X.shape)\n",
    "print(tabulate(X.head(5), headers='keys', tablefmt='psql'))\n",
    "y = pd.Series(data.target, name='target')\n",
    "\n",
    "\n",
    "\n",
    "# Compute correlation coefficients\n",
    "correlations = X.corrwith(y).abs().sort_values(ascending=False)\n",
    "selected_features_corr = sorted(correlations.head(10).index.tolist())\n",
    "print(\"After Correlation Coefficient Dataframe Shape: \",X[selected_features_corr].shape)\n",
    "print(tabulate(X[selected_features_corr].head(5), headers=selected_features_corr, tablefmt='psql'))\n"
   ]
  },
  {
   "cell_type": "markdown",
   "metadata": {},
   "source": [
    "#### b. Chi-Square Test"
   ]
  },
  {
   "cell_type": "code",
   "execution_count": 19,
   "metadata": {},
   "outputs": [
    {
     "name": "stdout",
     "output_type": "stream",
     "text": [
      "Original Dataframe Shape:  (569, 30)\n",
      "+----+---------------+----------------+------------------+-------------+-------------------+--------------------+------------------+-----------------------+-----------------+--------------------------+----------------+-----------------+-------------------+--------------+--------------------+---------------------+-------------------+------------------------+------------------+---------------------------+----------------+-----------------+-------------------+--------------+--------------------+---------------------+-------------------+------------------------+------------------+---------------------------+\n",
      "|    |   mean radius |   mean texture |   mean perimeter |   mean area |   mean smoothness |   mean compactness |   mean concavity |   mean concave points |   mean symmetry |   mean fractal dimension |   radius error |   texture error |   perimeter error |   area error |   smoothness error |   compactness error |   concavity error |   concave points error |   symmetry error |   fractal dimension error |   worst radius |   worst texture |   worst perimeter |   worst area |   worst smoothness |   worst compactness |   worst concavity |   worst concave points |   worst symmetry |   worst fractal dimension |\n",
      "|----+---------------+----------------+------------------+-------------+-------------------+--------------------+------------------+-----------------------+-----------------+--------------------------+----------------+-----------------+-------------------+--------------+--------------------+---------------------+-------------------+------------------------+------------------+---------------------------+----------------+-----------------+-------------------+--------------+--------------------+---------------------+-------------------+------------------------+------------------+---------------------------|\n",
      "|  0 |         17.99 |          10.38 |           122.8  |      1001   |           0.1184  |            0.2776  |           0.3001 |               0.1471  |          0.2419 |                  0.07871 |         1.095  |          0.9053 |             8.589 |       153.4  |           0.006399 |             0.04904 |           0.05373 |                0.01587 |          0.03003 |                  0.006193 |          25.38 |           17.33 |            184.6  |       2019   |             0.1622 |              0.6656 |            0.7119 |                 0.2654 |           0.4601 |                   0.1189  |\n",
      "|  1 |         20.57 |          17.77 |           132.9  |      1326   |           0.08474 |            0.07864 |           0.0869 |               0.07017 |          0.1812 |                  0.05667 |         0.5435 |          0.7339 |             3.398 |        74.08 |           0.005225 |             0.01308 |           0.0186  |                0.0134  |          0.01389 |                  0.003532 |          24.99 |           23.41 |            158.8  |       1956   |             0.1238 |              0.1866 |            0.2416 |                 0.186  |           0.275  |                   0.08902 |\n",
      "|  2 |         19.69 |          21.25 |           130    |      1203   |           0.1096  |            0.1599  |           0.1974 |               0.1279  |          0.2069 |                  0.05999 |         0.7456 |          0.7869 |             4.585 |        94.03 |           0.00615  |             0.04006 |           0.03832 |                0.02058 |          0.0225  |                  0.004571 |          23.57 |           25.53 |            152.5  |       1709   |             0.1444 |              0.4245 |            0.4504 |                 0.243  |           0.3613 |                   0.08758 |\n",
      "|  3 |         11.42 |          20.38 |            77.58 |       386.1 |           0.1425  |            0.2839  |           0.2414 |               0.1052  |          0.2597 |                  0.09744 |         0.4956 |          1.156  |             3.445 |        27.23 |           0.00911  |             0.07458 |           0.05661 |                0.01867 |          0.05963 |                  0.009208 |          14.91 |           26.5  |             98.87 |        567.7 |             0.2098 |              0.8663 |            0.6869 |                 0.2575 |           0.6638 |                   0.173   |\n",
      "|  4 |         20.29 |          14.34 |           135.1  |      1297   |           0.1003  |            0.1328  |           0.198  |               0.1043  |          0.1809 |                  0.05883 |         0.7572 |          0.7813 |             5.438 |        94.44 |           0.01149  |             0.02461 |           0.05688 |                0.01885 |          0.01756 |                  0.005115 |          22.54 |           16.67 |            152.2  |       1575   |             0.1374 |              0.205  |            0.4    |                 0.1625 |           0.2364 |                   0.07678 |\n",
      "+----+---------------+----------------+------------------+-------------+-------------------+--------------------+------------------+-----------------------+-----------------+--------------------------+----------------+-----------------+-------------------+--------------+--------------------+---------------------+-------------------+------------------------+------------------+---------------------------+----------------+-----------------+-------------------+--------------+--------------------+---------------------+-------------------+------------------------+------------------+---------------------------+\n",
      "After Chi-Square Test Dataframe Shape:  (569, 10)\n",
      "+----+-------------+-----------------------+------------------+------------------+----------------+--------------+------------------------+-------------------+-------------------+----------------+\n",
      "|    |   mean area |   mean concave points |   mean concavity |   mean perimeter |   radius error |   worst area |   worst concave points |   worst concavity |   worst perimeter |   worst radius |\n",
      "|----+-------------+-----------------------+------------------+------------------+----------------+--------------+------------------------+-------------------+-------------------+----------------|\n",
      "|  0 |      1001   |               0.1471  |           0.3001 |           122.8  |         1.095  |       2019   |                 0.2654 |            0.7119 |            184.6  |          25.38 |\n",
      "|  1 |      1326   |               0.07017 |           0.0869 |           132.9  |         0.5435 |       1956   |                 0.186  |            0.2416 |            158.8  |          24.99 |\n",
      "|  2 |      1203   |               0.1279  |           0.1974 |           130    |         0.7456 |       1709   |                 0.243  |            0.4504 |            152.5  |          23.57 |\n",
      "|  3 |       386.1 |               0.1052  |           0.2414 |            77.58 |         0.4956 |        567.7 |                 0.2575 |            0.6869 |             98.87 |          14.91 |\n",
      "|  4 |      1297   |               0.1043  |           0.198  |           135.1  |         0.7572 |       1575   |                 0.1625 |            0.4    |            152.2  |          22.54 |\n",
      "+----+-------------+-----------------------+------------------+------------------+----------------+--------------+------------------------+-------------------+-------------------+----------------+\n"
     ]
    }
   ],
   "source": [
    "import pandas as pd\n",
    "from sklearn.datasets import load_breast_cancer\n",
    "from sklearn.preprocessing import KBinsDiscretizer\n",
    "from sklearn.feature_selection import SelectKBest, chi2\n",
    "\n",
    "# Load the breast cancer dataset\n",
    "data = load_breast_cancer()\n",
    "X = pd.DataFrame(data.data, columns=data.feature_names)\n",
    "print(\"Original Dataframe Shape: \", X.shape)\n",
    "print(tabulate(X.head(5), headers='keys', tablefmt='psql'))\n",
    "y = pd.Series(data.target, name='target')\n",
    "\n",
    "# Discretize features\n",
    "discretizer = KBinsDiscretizer(n_bins=10, encode='ordinal', strategy='uniform')\n",
    "X_discretized = discretizer.fit_transform(X)\n",
    "\n",
    "# Apply Chi-Square test\n",
    "chi2_selector = SelectKBest(chi2, k=10)\n",
    "chi2_selector.fit(X_discretized, y)\n",
    "selected_features_chi2 = sorted(X.columns[chi2_selector.get_support()].tolist())\n",
    "print(\"After Chi-Square Test Dataframe Shape: \",X[selected_features_chi2].shape)\n",
    "print(tabulate(X[selected_features_chi2].head(5), headers=selected_features_chi2, tablefmt='psql'))"
   ]
  },
  {
   "cell_type": "markdown",
   "metadata": {},
   "source": [
    "#### c. Mutual Information"
   ]
  },
  {
   "cell_type": "code",
   "execution_count": 20,
   "metadata": {},
   "outputs": [
    {
     "name": "stdout",
     "output_type": "stream",
     "text": [
      "Original Dataframe Shape:  (569, 30)\n",
      "+----+---------------+----------------+------------------+-------------+-------------------+--------------------+------------------+-----------------------+-----------------+--------------------------+----------------+-----------------+-------------------+--------------+--------------------+---------------------+-------------------+------------------------+------------------+---------------------------+----------------+-----------------+-------------------+--------------+--------------------+---------------------+-------------------+------------------------+------------------+---------------------------+\n",
      "|    |   mean radius |   mean texture |   mean perimeter |   mean area |   mean smoothness |   mean compactness |   mean concavity |   mean concave points |   mean symmetry |   mean fractal dimension |   radius error |   texture error |   perimeter error |   area error |   smoothness error |   compactness error |   concavity error |   concave points error |   symmetry error |   fractal dimension error |   worst radius |   worst texture |   worst perimeter |   worst area |   worst smoothness |   worst compactness |   worst concavity |   worst concave points |   worst symmetry |   worst fractal dimension |\n",
      "|----+---------------+----------------+------------------+-------------+-------------------+--------------------+------------------+-----------------------+-----------------+--------------------------+----------------+-----------------+-------------------+--------------+--------------------+---------------------+-------------------+------------------------+------------------+---------------------------+----------------+-----------------+-------------------+--------------+--------------------+---------------------+-------------------+------------------------+------------------+---------------------------|\n",
      "|  0 |         17.99 |          10.38 |           122.8  |      1001   |           0.1184  |            0.2776  |           0.3001 |               0.1471  |          0.2419 |                  0.07871 |         1.095  |          0.9053 |             8.589 |       153.4  |           0.006399 |             0.04904 |           0.05373 |                0.01587 |          0.03003 |                  0.006193 |          25.38 |           17.33 |            184.6  |       2019   |             0.1622 |              0.6656 |            0.7119 |                 0.2654 |           0.4601 |                   0.1189  |\n",
      "|  1 |         20.57 |          17.77 |           132.9  |      1326   |           0.08474 |            0.07864 |           0.0869 |               0.07017 |          0.1812 |                  0.05667 |         0.5435 |          0.7339 |             3.398 |        74.08 |           0.005225 |             0.01308 |           0.0186  |                0.0134  |          0.01389 |                  0.003532 |          24.99 |           23.41 |            158.8  |       1956   |             0.1238 |              0.1866 |            0.2416 |                 0.186  |           0.275  |                   0.08902 |\n",
      "|  2 |         19.69 |          21.25 |           130    |      1203   |           0.1096  |            0.1599  |           0.1974 |               0.1279  |          0.2069 |                  0.05999 |         0.7456 |          0.7869 |             4.585 |        94.03 |           0.00615  |             0.04006 |           0.03832 |                0.02058 |          0.0225  |                  0.004571 |          23.57 |           25.53 |            152.5  |       1709   |             0.1444 |              0.4245 |            0.4504 |                 0.243  |           0.3613 |                   0.08758 |\n",
      "|  3 |         11.42 |          20.38 |            77.58 |       386.1 |           0.1425  |            0.2839  |           0.2414 |               0.1052  |          0.2597 |                  0.09744 |         0.4956 |          1.156  |             3.445 |        27.23 |           0.00911  |             0.07458 |           0.05661 |                0.01867 |          0.05963 |                  0.009208 |          14.91 |           26.5  |             98.87 |        567.7 |             0.2098 |              0.8663 |            0.6869 |                 0.2575 |           0.6638 |                   0.173   |\n",
      "|  4 |         20.29 |          14.34 |           135.1  |      1297   |           0.1003  |            0.1328  |           0.198  |               0.1043  |          0.1809 |                  0.05883 |         0.7572 |          0.7813 |             5.438 |        94.44 |           0.01149  |             0.02461 |           0.05688 |                0.01885 |          0.01756 |                  0.005115 |          22.54 |           16.67 |            152.2  |       1575   |             0.1374 |              0.205  |            0.4    |                 0.1625 |           0.2364 |                   0.07678 |\n",
      "+----+---------------+----------------+------------------+-------------+-------------------+--------------------+------------------+-----------------------+-----------------+--------------------------+----------------+-----------------+-------------------+--------------+--------------------+---------------------+-------------------+------------------------+------------------+---------------------------+----------------+-----------------+-------------------+--------------+--------------------+---------------------+-------------------+------------------------+------------------+---------------------------+\n",
      "After Mutual Information Dataframe Shape:  (569, 10)\n",
      "+----+--------------+-------------+-----------------------+------------------+------------------+---------------+--------------+------------------------+-------------------+----------------+\n",
      "|    |   area error |   mean area |   mean concave points |   mean concavity |   mean perimeter |   mean radius |   worst area |   worst concave points |   worst perimeter |   worst radius |\n",
      "|----+--------------+-------------+-----------------------+------------------+------------------+---------------+--------------+------------------------+-------------------+----------------|\n",
      "|  0 |       153.4  |      1001   |               0.1471  |           0.3001 |           122.8  |         17.99 |       2019   |                 0.2654 |            184.6  |          25.38 |\n",
      "|  1 |        74.08 |      1326   |               0.07017 |           0.0869 |           132.9  |         20.57 |       1956   |                 0.186  |            158.8  |          24.99 |\n",
      "|  2 |        94.03 |      1203   |               0.1279  |           0.1974 |           130    |         19.69 |       1709   |                 0.243  |            152.5  |          23.57 |\n",
      "|  3 |        27.23 |       386.1 |               0.1052  |           0.2414 |            77.58 |         11.42 |        567.7 |                 0.2575 |             98.87 |          14.91 |\n",
      "|  4 |        94.44 |      1297   |               0.1043  |           0.198  |           135.1  |         20.29 |       1575   |                 0.1625 |            152.2  |          22.54 |\n",
      "+----+--------------+-------------+-----------------------+------------------+------------------+---------------+--------------+------------------------+-------------------+----------------+\n"
     ]
    }
   ],
   "source": [
    "import pandas as pd\n",
    "from sklearn.datasets import load_breast_cancer\n",
    "from sklearn.feature_selection import SelectKBest, mutual_info_classif\n",
    "\n",
    "# Load the breast cancer dataset\n",
    "data = load_breast_cancer()\n",
    "X = pd.DataFrame(data.data, columns=data.feature_names)\n",
    "print(\"Original Dataframe Shape: \", X.shape)\n",
    "print(tabulate(X.head(5), headers='keys', tablefmt='psql'))\n",
    "y = pd.Series(data.target, name='target')\n",
    "\n",
    "# Apply Mutual Information method\n",
    "mi_selector = SelectKBest(mutual_info_classif, k=10)\n",
    "mi_selector.fit(X, y)\n",
    "selected_features_mi = sorted(X.columns[mi_selector.get_support()].tolist())\n",
    "print(\"After Mutual Information Dataframe Shape: \",X[selected_features_mi].shape)\n",
    "print(tabulate(X[selected_features_mi].head(5), headers=selected_features_mi, tablefmt='psql'))"
   ]
  },
  {
   "cell_type": "markdown",
   "metadata": {},
   "source": [
    "#### d. Variance Threshold"
   ]
  },
  {
   "cell_type": "code",
   "execution_count": 21,
   "metadata": {},
   "outputs": [
    {
     "name": "stdout",
     "output_type": "stream",
     "text": [
      "Original Dataframe Shape:  (569, 30)\n",
      "+----+---------------+----------------+------------------+-------------+-------------------+--------------------+------------------+-----------------------+-----------------+--------------------------+----------------+-----------------+-------------------+--------------+--------------------+---------------------+-------------------+------------------------+------------------+---------------------------+----------------+-----------------+-------------------+--------------+--------------------+---------------------+-------------------+------------------------+------------------+---------------------------+\n",
      "|    |   mean radius |   mean texture |   mean perimeter |   mean area |   mean smoothness |   mean compactness |   mean concavity |   mean concave points |   mean symmetry |   mean fractal dimension |   radius error |   texture error |   perimeter error |   area error |   smoothness error |   compactness error |   concavity error |   concave points error |   symmetry error |   fractal dimension error |   worst radius |   worst texture |   worst perimeter |   worst area |   worst smoothness |   worst compactness |   worst concavity |   worst concave points |   worst symmetry |   worst fractal dimension |\n",
      "|----+---------------+----------------+------------------+-------------+-------------------+--------------------+------------------+-----------------------+-----------------+--------------------------+----------------+-----------------+-------------------+--------------+--------------------+---------------------+-------------------+------------------------+------------------+---------------------------+----------------+-----------------+-------------------+--------------+--------------------+---------------------+-------------------+------------------------+------------------+---------------------------|\n",
      "|  0 |         17.99 |          10.38 |           122.8  |      1001   |           0.1184  |            0.2776  |           0.3001 |               0.1471  |          0.2419 |                  0.07871 |         1.095  |          0.9053 |             8.589 |       153.4  |           0.006399 |             0.04904 |           0.05373 |                0.01587 |          0.03003 |                  0.006193 |          25.38 |           17.33 |            184.6  |       2019   |             0.1622 |              0.6656 |            0.7119 |                 0.2654 |           0.4601 |                   0.1189  |\n",
      "|  1 |         20.57 |          17.77 |           132.9  |      1326   |           0.08474 |            0.07864 |           0.0869 |               0.07017 |          0.1812 |                  0.05667 |         0.5435 |          0.7339 |             3.398 |        74.08 |           0.005225 |             0.01308 |           0.0186  |                0.0134  |          0.01389 |                  0.003532 |          24.99 |           23.41 |            158.8  |       1956   |             0.1238 |              0.1866 |            0.2416 |                 0.186  |           0.275  |                   0.08902 |\n",
      "|  2 |         19.69 |          21.25 |           130    |      1203   |           0.1096  |            0.1599  |           0.1974 |               0.1279  |          0.2069 |                  0.05999 |         0.7456 |          0.7869 |             4.585 |        94.03 |           0.00615  |             0.04006 |           0.03832 |                0.02058 |          0.0225  |                  0.004571 |          23.57 |           25.53 |            152.5  |       1709   |             0.1444 |              0.4245 |            0.4504 |                 0.243  |           0.3613 |                   0.08758 |\n",
      "|  3 |         11.42 |          20.38 |            77.58 |       386.1 |           0.1425  |            0.2839  |           0.2414 |               0.1052  |          0.2597 |                  0.09744 |         0.4956 |          1.156  |             3.445 |        27.23 |           0.00911  |             0.07458 |           0.05661 |                0.01867 |          0.05963 |                  0.009208 |          14.91 |           26.5  |             98.87 |        567.7 |             0.2098 |              0.8663 |            0.6869 |                 0.2575 |           0.6638 |                   0.173   |\n",
      "|  4 |         20.29 |          14.34 |           135.1  |      1297   |           0.1003  |            0.1328  |           0.198  |               0.1043  |          0.1809 |                  0.05883 |         0.7572 |          0.7813 |             5.438 |        94.44 |           0.01149  |             0.02461 |           0.05688 |                0.01885 |          0.01756 |                  0.005115 |          22.54 |           16.67 |            152.2  |       1575   |             0.1374 |              0.205  |            0.4    |                 0.1625 |           0.2364 |                   0.07678 |\n",
      "+----+---------------+----------------+------------------+-------------+-------------------+--------------------+------------------+-----------------------+-----------------+--------------------------+----------------+-----------------+-------------------+--------------+--------------------+---------------------+-------------------+------------------------+------------------+---------------------------+----------------+-----------------+-------------------+--------------+--------------------+---------------------+-------------------+------------------------+------------------+---------------------------+\n",
      "After Variance Threshold (0.5) Dataframe Shape:  (569, 10)\n",
      "+----+--------------+-------------+------------------+---------------+----------------+-------------------+--------------+-------------------+----------------+-----------------+\n",
      "|    |   area error |   mean area |   mean perimeter |   mean radius |   mean texture |   perimeter error |   worst area |   worst perimeter |   worst radius |   worst texture |\n",
      "|----+--------------+-------------+------------------+---------------+----------------+-------------------+--------------+-------------------+----------------+-----------------|\n",
      "|  0 |       153.4  |      1001   |           122.8  |         17.99 |          10.38 |             8.589 |       2019   |            184.6  |          25.38 |           17.33 |\n",
      "|  1 |        74.08 |      1326   |           132.9  |         20.57 |          17.77 |             3.398 |       1956   |            158.8  |          24.99 |           23.41 |\n",
      "|  2 |        94.03 |      1203   |           130    |         19.69 |          21.25 |             4.585 |       1709   |            152.5  |          23.57 |           25.53 |\n",
      "|  3 |        27.23 |       386.1 |            77.58 |         11.42 |          20.38 |             3.445 |        567.7 |             98.87 |          14.91 |           26.5  |\n",
      "|  4 |        94.44 |      1297   |           135.1  |         20.29 |          14.34 |             5.438 |       1575   |            152.2  |          22.54 |           16.67 |\n",
      "+----+--------------+-------------+------------------+---------------+----------------+-------------------+--------------+-------------------+----------------+-----------------+\n"
     ]
    }
   ],
   "source": [
    "import pandas as pd\n",
    "from sklearn.datasets import load_breast_cancer\n",
    "from sklearn.feature_selection import VarianceThreshold\n",
    "\n",
    "# Load the breast cancer dataset\n",
    "data = load_breast_cancer()\n",
    "X = pd.DataFrame(data.data, columns=data.feature_names)\n",
    "print(\"Original Dataframe Shape: \", X.shape)\n",
    "print(tabulate(X.head(5), headers='keys', tablefmt='psql'))\n",
    "y = pd.Series(data.target, name='target')\n",
    "\n",
    "# Apply Variance Threshold\n",
    "var_threshold = VarianceThreshold(threshold=0.5)\n",
    "var_threshold.fit(X)\n",
    "selected_features_var = sorted(X.columns[var_threshold.get_support()].tolist())\n",
    "print(\"After Variance Threshold (0.5) Dataframe Shape: \",X[selected_features_var].shape)\n",
    "print(tabulate(X[selected_features_var].head(5), headers=selected_features_var, tablefmt='psql'))"
   ]
  },
  {
   "cell_type": "markdown",
   "metadata": {},
   "source": [
    "### 2. Wrapper Methods\n",
    "\n",
    "#### a. Forward Selection\n",
    "\n",
    "**Pros**:\n",
    "- Computationally efficient: Starts with no features and adds them one by one, resulting in fewer model fittings compared to backward elimination\n",
    "- Scalable: Better suited for datasets with a large number of features\n",
    "- Faster convergence: Typically reaches a satisfactory subset of features more quickly\n",
    "\n",
    "**Cons**:\n",
    "\n",
    "- Risk of missing important features: Since it starts with an empty model, there is a chance that some important features might not be added if their individual contributions are not immediately apparent\n",
    "- Greedy algorithm: May not find the optimal set of features as it makes locally optimal choices at each step"
   ]
  },
  {
   "cell_type": "code",
   "execution_count": 22,
   "metadata": {},
   "outputs": [
    {
     "name": "stdout",
     "output_type": "stream",
     "text": [
      "Original Dataframe Shape:  (569, 30)\n",
      "+----+---------------+----------------+------------------+-------------+-------------------+--------------------+------------------+-----------------------+-----------------+--------------------------+----------------+-----------------+-------------------+--------------+--------------------+---------------------+-------------------+------------------------+------------------+---------------------------+----------------+-----------------+-------------------+--------------+--------------------+---------------------+-------------------+------------------------+------------------+---------------------------+\n",
      "|    |   mean radius |   mean texture |   mean perimeter |   mean area |   mean smoothness |   mean compactness |   mean concavity |   mean concave points |   mean symmetry |   mean fractal dimension |   radius error |   texture error |   perimeter error |   area error |   smoothness error |   compactness error |   concavity error |   concave points error |   symmetry error |   fractal dimension error |   worst radius |   worst texture |   worst perimeter |   worst area |   worst smoothness |   worst compactness |   worst concavity |   worst concave points |   worst symmetry |   worst fractal dimension |\n",
      "|----+---------------+----------------+------------------+-------------+-------------------+--------------------+------------------+-----------------------+-----------------+--------------------------+----------------+-----------------+-------------------+--------------+--------------------+---------------------+-------------------+------------------------+------------------+---------------------------+----------------+-----------------+-------------------+--------------+--------------------+---------------------+-------------------+------------------------+------------------+---------------------------|\n",
      "|  0 |         17.99 |          10.38 |           122.8  |      1001   |           0.1184  |            0.2776  |           0.3001 |               0.1471  |          0.2419 |                  0.07871 |         1.095  |          0.9053 |             8.589 |       153.4  |           0.006399 |             0.04904 |           0.05373 |                0.01587 |          0.03003 |                  0.006193 |          25.38 |           17.33 |            184.6  |       2019   |             0.1622 |              0.6656 |            0.7119 |                 0.2654 |           0.4601 |                   0.1189  |\n",
      "|  1 |         20.57 |          17.77 |           132.9  |      1326   |           0.08474 |            0.07864 |           0.0869 |               0.07017 |          0.1812 |                  0.05667 |         0.5435 |          0.7339 |             3.398 |        74.08 |           0.005225 |             0.01308 |           0.0186  |                0.0134  |          0.01389 |                  0.003532 |          24.99 |           23.41 |            158.8  |       1956   |             0.1238 |              0.1866 |            0.2416 |                 0.186  |           0.275  |                   0.08902 |\n",
      "|  2 |         19.69 |          21.25 |           130    |      1203   |           0.1096  |            0.1599  |           0.1974 |               0.1279  |          0.2069 |                  0.05999 |         0.7456 |          0.7869 |             4.585 |        94.03 |           0.00615  |             0.04006 |           0.03832 |                0.02058 |          0.0225  |                  0.004571 |          23.57 |           25.53 |            152.5  |       1709   |             0.1444 |              0.4245 |            0.4504 |                 0.243  |           0.3613 |                   0.08758 |\n",
      "|  3 |         11.42 |          20.38 |            77.58 |       386.1 |           0.1425  |            0.2839  |           0.2414 |               0.1052  |          0.2597 |                  0.09744 |         0.4956 |          1.156  |             3.445 |        27.23 |           0.00911  |             0.07458 |           0.05661 |                0.01867 |          0.05963 |                  0.009208 |          14.91 |           26.5  |             98.87 |        567.7 |             0.2098 |              0.8663 |            0.6869 |                 0.2575 |           0.6638 |                   0.173   |\n",
      "|  4 |         20.29 |          14.34 |           135.1  |      1297   |           0.1003  |            0.1328  |           0.198  |               0.1043  |          0.1809 |                  0.05883 |         0.7572 |          0.7813 |             5.438 |        94.44 |           0.01149  |             0.02461 |           0.05688 |                0.01885 |          0.01756 |                  0.005115 |          22.54 |           16.67 |            152.2  |       1575   |             0.1374 |              0.205  |            0.4    |                 0.1625 |           0.2364 |                   0.07678 |\n",
      "+----+---------------+----------------+------------------+-------------+-------------------+--------------------+------------------+-----------------------+-----------------+--------------------------+----------------+-----------------+-------------------+--------------+--------------------+---------------------+-------------------+------------------------+------------------+---------------------------+----------------+-----------------+-------------------+--------------+--------------------+---------------------+-------------------+------------------------+------------------+---------------------------+\n",
      "After Forward Selection Dataframe Shape:  (569, 10)\n",
      "+----+--------------------+-----------------------+------------------+---------------+-------------------+-----------------+----------------+---------------------+-------------------+-----------------+\n",
      "|    |   mean compactness |   mean concave points |   mean concavity |   mean radius |   mean smoothness |   mean symmetry |   radius error |   worst compactness |   worst perimeter |   worst texture |\n",
      "|----+--------------------+-----------------------+------------------+---------------+-------------------+-----------------+----------------+---------------------+-------------------+-----------------|\n",
      "|  0 |            0.2776  |               0.1471  |           0.3001 |         17.99 |           0.1184  |          0.2419 |         1.095  |              0.6656 |            184.6  |           17.33 |\n",
      "|  1 |            0.07864 |               0.07017 |           0.0869 |         20.57 |           0.08474 |          0.1812 |         0.5435 |              0.1866 |            158.8  |           23.41 |\n",
      "|  2 |            0.1599  |               0.1279  |           0.1974 |         19.69 |           0.1096  |          0.2069 |         0.7456 |              0.4245 |            152.5  |           25.53 |\n",
      "|  3 |            0.2839  |               0.1052  |           0.2414 |         11.42 |           0.1425  |          0.2597 |         0.4956 |              0.8663 |             98.87 |           26.5  |\n",
      "|  4 |            0.1328  |               0.1043  |           0.198  |         20.29 |           0.1003  |          0.1809 |         0.7572 |              0.205  |            152.2  |           16.67 |\n",
      "+----+--------------------+-----------------------+------------------+---------------+-------------------+-----------------+----------------+---------------------+-------------------+-----------------+\n"
     ]
    }
   ],
   "source": [
    "import pandas as pd\n",
    "from sklearn.datasets import load_breast_cancer\n",
    "from sklearn.linear_model import LogisticRegression\n",
    "from sklearn.feature_selection import SequentialFeatureSelector\n",
    "from tabulate import tabulate\n",
    "\n",
    "# Load the breast cancer dataset\n",
    "data = load_breast_cancer()\n",
    "X = pd.DataFrame(data.data, columns=data.feature_names)\n",
    "print(\"Original Dataframe Shape: \", X.shape)\n",
    "print(tabulate(X.head(5), headers='keys', tablefmt='psql'))\n",
    "y = pd.Series(data.target, name='target')\n",
    "\n",
    "# Apply Forward Selection\n",
    "model = LogisticRegression(max_iter=5000)\n",
    "sfs = SequentialFeatureSelector(model, n_features_to_select=10, direction='forward')\n",
    "sfs.fit(X, y)\n",
    "selected_features_fs = sorted(X.columns[sfs.get_support()].tolist())\n",
    "print(\"After Forward Selection Dataframe Shape: \", X[selected_features_fs].shape)\n",
    "print(tabulate(X[selected_features_fs].head(5), headers=selected_features_fs, tablefmt='psql'))\n"
   ]
  },
  {
   "cell_type": "markdown",
   "metadata": {},
   "source": [
    "#### b. Backward Elimination\n",
    "\n",
    "**Pros**:\n",
    "- Starts with all features, ensuring that no potentially important features are initially excluded\n",
    "- Can sometimes be more thorough since it evaluates the importance of each feature within the context of all other features\n",
    "\n",
    "**Cons**:\n",
    "- Computationally intensive: Each step involves fitting the model multiple times, which can be very slow if there are many features\n",
    "- Not scalable: As the number of features increases, the time required to perform backward elimination grows significantly"
   ]
  },
  {
   "cell_type": "code",
   "execution_count": 23,
   "metadata": {},
   "outputs": [
    {
     "name": "stdout",
     "output_type": "stream",
     "text": [
      "Original Dataframe Shape:  (569, 30)\n",
      "+----+---------------+----------------+------------------+-------------+-------------------+--------------------+------------------+-----------------------+-----------------+--------------------------+----------------+-----------------+-------------------+--------------+--------------------+---------------------+-------------------+------------------------+------------------+---------------------------+----------------+-----------------+-------------------+--------------+--------------------+---------------------+-------------------+------------------------+------------------+---------------------------+\n",
      "|    |   mean radius |   mean texture |   mean perimeter |   mean area |   mean smoothness |   mean compactness |   mean concavity |   mean concave points |   mean symmetry |   mean fractal dimension |   radius error |   texture error |   perimeter error |   area error |   smoothness error |   compactness error |   concavity error |   concave points error |   symmetry error |   fractal dimension error |   worst radius |   worst texture |   worst perimeter |   worst area |   worst smoothness |   worst compactness |   worst concavity |   worst concave points |   worst symmetry |   worst fractal dimension |\n",
      "|----+---------------+----------------+------------------+-------------+-------------------+--------------------+------------------+-----------------------+-----------------+--------------------------+----------------+-----------------+-------------------+--------------+--------------------+---------------------+-------------------+------------------------+------------------+---------------------------+----------------+-----------------+-------------------+--------------+--------------------+---------------------+-------------------+------------------------+------------------+---------------------------|\n",
      "|  0 |         17.99 |          10.38 |           122.8  |      1001   |           0.1184  |            0.2776  |           0.3001 |               0.1471  |          0.2419 |                  0.07871 |         1.095  |          0.9053 |             8.589 |       153.4  |           0.006399 |             0.04904 |           0.05373 |                0.01587 |          0.03003 |                  0.006193 |          25.38 |           17.33 |            184.6  |       2019   |             0.1622 |              0.6656 |            0.7119 |                 0.2654 |           0.4601 |                   0.1189  |\n",
      "|  1 |         20.57 |          17.77 |           132.9  |      1326   |           0.08474 |            0.07864 |           0.0869 |               0.07017 |          0.1812 |                  0.05667 |         0.5435 |          0.7339 |             3.398 |        74.08 |           0.005225 |             0.01308 |           0.0186  |                0.0134  |          0.01389 |                  0.003532 |          24.99 |           23.41 |            158.8  |       1956   |             0.1238 |              0.1866 |            0.2416 |                 0.186  |           0.275  |                   0.08902 |\n",
      "|  2 |         19.69 |          21.25 |           130    |      1203   |           0.1096  |            0.1599  |           0.1974 |               0.1279  |          0.2069 |                  0.05999 |         0.7456 |          0.7869 |             4.585 |        94.03 |           0.00615  |             0.04006 |           0.03832 |                0.02058 |          0.0225  |                  0.004571 |          23.57 |           25.53 |            152.5  |       1709   |             0.1444 |              0.4245 |            0.4504 |                 0.243  |           0.3613 |                   0.08758 |\n",
      "|  3 |         11.42 |          20.38 |            77.58 |       386.1 |           0.1425  |            0.2839  |           0.2414 |               0.1052  |          0.2597 |                  0.09744 |         0.4956 |          1.156  |             3.445 |        27.23 |           0.00911  |             0.07458 |           0.05661 |                0.01867 |          0.05963 |                  0.009208 |          14.91 |           26.5  |             98.87 |        567.7 |             0.2098 |              0.8663 |            0.6869 |                 0.2575 |           0.6638 |                   0.173   |\n",
      "|  4 |         20.29 |          14.34 |           135.1  |      1297   |           0.1003  |            0.1328  |           0.198  |               0.1043  |          0.1809 |                  0.05883 |         0.7572 |          0.7813 |             5.438 |        94.44 |           0.01149  |             0.02461 |           0.05688 |                0.01885 |          0.01756 |                  0.005115 |          22.54 |           16.67 |            152.2  |       1575   |             0.1374 |              0.205  |            0.4    |                 0.1625 |           0.2364 |                   0.07678 |\n",
      "+----+---------------+----------------+------------------+-------------+-------------------+--------------------+------------------+-----------------------+-----------------+--------------------------+----------------+-----------------+-------------------+--------------+--------------------+---------------------+-------------------+------------------------+------------------+---------------------------+----------------+-----------------+-------------------+--------------+--------------------+---------------------+-------------------+------------------------+------------------+---------------------------+\n",
      "After Backward Elimination Dataframe Shape:  (569, 10)\n",
      "+----+--------------+-------------+------------------+---------------+----------------+--------------+---------------------+------------------------+-------------------+-----------------+\n",
      "|    |   area error |   mean area |   mean perimeter |   mean radius |   mean texture |   worst area |   worst compactness |   worst concave points |   worst concavity |   worst texture |\n",
      "|----+--------------+-------------+------------------+---------------+----------------+--------------+---------------------+------------------------+-------------------+-----------------|\n",
      "|  0 |       153.4  |      1001   |           122.8  |         17.99 |          10.38 |       2019   |              0.6656 |                 0.2654 |            0.7119 |           17.33 |\n",
      "|  1 |        74.08 |      1326   |           132.9  |         20.57 |          17.77 |       1956   |              0.1866 |                 0.186  |            0.2416 |           23.41 |\n",
      "|  2 |        94.03 |      1203   |           130    |         19.69 |          21.25 |       1709   |              0.4245 |                 0.243  |            0.4504 |           25.53 |\n",
      "|  3 |        27.23 |       386.1 |            77.58 |         11.42 |          20.38 |        567.7 |              0.8663 |                 0.2575 |            0.6869 |           26.5  |\n",
      "|  4 |        94.44 |      1297   |           135.1  |         20.29 |          14.34 |       1575   |              0.205  |                 0.1625 |            0.4    |           16.67 |\n",
      "+----+--------------+-------------+------------------+---------------+----------------+--------------+---------------------+------------------------+-------------------+-----------------+\n"
     ]
    }
   ],
   "source": [
    "import pandas as pd\n",
    "from sklearn.datasets import load_breast_cancer\n",
    "from sklearn.linear_model import LogisticRegression\n",
    "from sklearn.feature_selection import SequentialFeatureSelector\n",
    "from tabulate import tabulate\n",
    "\n",
    "# Load the breast cancer dataset\n",
    "data = load_breast_cancer()\n",
    "X = pd.DataFrame(data.data, columns=data.feature_names)\n",
    "print(\"Original Dataframe Shape: \", X.shape)\n",
    "print(tabulate(X.head(5), headers='keys', tablefmt='psql'))\n",
    "y = pd.Series(data.target, name='target')\n",
    "\n",
    "# Apply Backward Elimination\n",
    "model = LogisticRegression(max_iter=5000)\n",
    "sfs = SequentialFeatureSelector(model, n_features_to_select=10, direction='backward')\n",
    "sfs.fit(X, y)\n",
    "selected_features_be = sorted(X.columns[sfs.get_support()].tolist())\n",
    "print(\"After Backward Elimination Dataframe Shape: \", X[selected_features_be].shape)\n",
    "print(tabulate(X[selected_features_be].head(5), headers=selected_features_be, tablefmt='psql'))"
   ]
  },
  {
   "cell_type": "markdown",
   "metadata": {},
   "source": [
    "#### c. Recursive Feature Elimination (RFE)"
   ]
  },
  {
   "cell_type": "code",
   "execution_count": 24,
   "metadata": {},
   "outputs": [
    {
     "name": "stdout",
     "output_type": "stream",
     "text": [
      "Original Dataframe Shape:  (569, 30)\n",
      "+----+---------------+----------------+------------------+-------------+-------------------+--------------------+------------------+-----------------------+-----------------+--------------------------+----------------+-----------------+-------------------+--------------+--------------------+---------------------+-------------------+------------------------+------------------+---------------------------+----------------+-----------------+-------------------+--------------+--------------------+---------------------+-------------------+------------------------+------------------+---------------------------+\n",
      "|    |   mean radius |   mean texture |   mean perimeter |   mean area |   mean smoothness |   mean compactness |   mean concavity |   mean concave points |   mean symmetry |   mean fractal dimension |   radius error |   texture error |   perimeter error |   area error |   smoothness error |   compactness error |   concavity error |   concave points error |   symmetry error |   fractal dimension error |   worst radius |   worst texture |   worst perimeter |   worst area |   worst smoothness |   worst compactness |   worst concavity |   worst concave points |   worst symmetry |   worst fractal dimension |\n",
      "|----+---------------+----------------+------------------+-------------+-------------------+--------------------+------------------+-----------------------+-----------------+--------------------------+----------------+-----------------+-------------------+--------------+--------------------+---------------------+-------------------+------------------------+------------------+---------------------------+----------------+-----------------+-------------------+--------------+--------------------+---------------------+-------------------+------------------------+------------------+---------------------------|\n",
      "|  0 |         17.99 |          10.38 |           122.8  |      1001   |           0.1184  |            0.2776  |           0.3001 |               0.1471  |          0.2419 |                  0.07871 |         1.095  |          0.9053 |             8.589 |       153.4  |           0.006399 |             0.04904 |           0.05373 |                0.01587 |          0.03003 |                  0.006193 |          25.38 |           17.33 |            184.6  |       2019   |             0.1622 |              0.6656 |            0.7119 |                 0.2654 |           0.4601 |                   0.1189  |\n",
      "|  1 |         20.57 |          17.77 |           132.9  |      1326   |           0.08474 |            0.07864 |           0.0869 |               0.07017 |          0.1812 |                  0.05667 |         0.5435 |          0.7339 |             3.398 |        74.08 |           0.005225 |             0.01308 |           0.0186  |                0.0134  |          0.01389 |                  0.003532 |          24.99 |           23.41 |            158.8  |       1956   |             0.1238 |              0.1866 |            0.2416 |                 0.186  |           0.275  |                   0.08902 |\n",
      "|  2 |         19.69 |          21.25 |           130    |      1203   |           0.1096  |            0.1599  |           0.1974 |               0.1279  |          0.2069 |                  0.05999 |         0.7456 |          0.7869 |             4.585 |        94.03 |           0.00615  |             0.04006 |           0.03832 |                0.02058 |          0.0225  |                  0.004571 |          23.57 |           25.53 |            152.5  |       1709   |             0.1444 |              0.4245 |            0.4504 |                 0.243  |           0.3613 |                   0.08758 |\n",
      "|  3 |         11.42 |          20.38 |            77.58 |       386.1 |           0.1425  |            0.2839  |           0.2414 |               0.1052  |          0.2597 |                  0.09744 |         0.4956 |          1.156  |             3.445 |        27.23 |           0.00911  |             0.07458 |           0.05661 |                0.01867 |          0.05963 |                  0.009208 |          14.91 |           26.5  |             98.87 |        567.7 |             0.2098 |              0.8663 |            0.6869 |                 0.2575 |           0.6638 |                   0.173   |\n",
      "|  4 |         20.29 |          14.34 |           135.1  |      1297   |           0.1003  |            0.1328  |           0.198  |               0.1043  |          0.1809 |                  0.05883 |         0.7572 |          0.7813 |             5.438 |        94.44 |           0.01149  |             0.02461 |           0.05688 |                0.01885 |          0.01756 |                  0.005115 |          22.54 |           16.67 |            152.2  |       1575   |             0.1374 |              0.205  |            0.4    |                 0.1625 |           0.2364 |                   0.07678 |\n",
      "+----+---------------+----------------+------------------+-------------+-------------------+--------------------+------------------+-----------------------+-----------------+--------------------------+----------------+-----------------+-------------------+--------------+--------------------+---------------------+-------------------+------------------------+------------------+---------------------------+----------------+-----------------+-------------------+--------------+--------------------+---------------------+-------------------+------------------------+------------------+---------------------------+\n",
      "After Recursive Feature Elimination Dataframe Shape:  (569, 10)\n",
      "+----+--------------------+------------------+---------------+-----------------+---------------------+------------------------+-------------------+----------------+--------------------+------------------+\n",
      "|    |   mean compactness |   mean concavity |   mean radius |   texture error |   worst compactness |   worst concave points |   worst concavity |   worst radius |   worst smoothness |   worst symmetry |\n",
      "|----+--------------------+------------------+---------------+-----------------+---------------------+------------------------+-------------------+----------------+--------------------+------------------|\n",
      "|  0 |            0.2776  |           0.3001 |         17.99 |          0.9053 |              0.6656 |                 0.2654 |            0.7119 |          25.38 |             0.1622 |           0.4601 |\n",
      "|  1 |            0.07864 |           0.0869 |         20.57 |          0.7339 |              0.1866 |                 0.186  |            0.2416 |          24.99 |             0.1238 |           0.275  |\n",
      "|  2 |            0.1599  |           0.1974 |         19.69 |          0.7869 |              0.4245 |                 0.243  |            0.4504 |          23.57 |             0.1444 |           0.3613 |\n",
      "|  3 |            0.2839  |           0.2414 |         11.42 |          1.156  |              0.8663 |                 0.2575 |            0.6869 |          14.91 |             0.2098 |           0.6638 |\n",
      "|  4 |            0.1328  |           0.198  |         20.29 |          0.7813 |              0.205  |                 0.1625 |            0.4    |          22.54 |             0.1374 |           0.2364 |\n",
      "+----+--------------------+------------------+---------------+-----------------+---------------------+------------------------+-------------------+----------------+--------------------+------------------+\n"
     ]
    }
   ],
   "source": [
    "import pandas as pd\n",
    "from sklearn.datasets import load_breast_cancer\n",
    "from sklearn.linear_model import LogisticRegression\n",
    "from sklearn.feature_selection import RFE\n",
    "from tabulate import tabulate\n",
    "\n",
    "# Load the breast cancer dataset\n",
    "data = load_breast_cancer()\n",
    "X = pd.DataFrame(data.data, columns=data.feature_names)\n",
    "print(\"Original Dataframe Shape: \", X.shape)\n",
    "print(tabulate(X.head(5), headers='keys', tablefmt='psql'))\n",
    "y = pd.Series(data.target, name='target')\n",
    "\n",
    "# Apply Recursive Feature Elimination (RFE)\n",
    "model = LogisticRegression(max_iter=5000)\n",
    "rfe = RFE(model, n_features_to_select=10)\n",
    "rfe.fit(X, y)\n",
    "selected_features_rfe = sorted(X.columns[rfe.get_support()].tolist())\n",
    "print(\"After Recursive Feature Elimination Dataframe Shape: \", X[selected_features_rfe].shape)\n",
    "print(tabulate(X[selected_features_rfe].head(5), headers=selected_features_rfe, tablefmt='psql'))"
   ]
  },
  {
   "cell_type": "markdown",
   "metadata": {},
   "source": [
    "### 3. Regularization Methods\n",
    "\n",
    "#### a. L1 Lasso Regularization (Lasso Regression)"
   ]
  },
  {
   "cell_type": "code",
   "execution_count": 43,
   "metadata": {},
   "outputs": [
    {
     "name": "stdout",
     "output_type": "stream",
     "text": [
      "Selected features using Lasso Regularization: ['worst concave points', 'worst radius', 'mean concave points', 'worst texture']\n",
      "+-------------------------+---------------+\n",
      "| Feature                 |   Coefficient |\n",
      "|-------------------------+---------------|\n",
      "| worst concave points    |    -0.149999  |\n",
      "| worst radius            |    -0.117937  |\n",
      "| mean concave points     |    -0.036743  |\n",
      "| worst texture           |    -0.0167356 |\n",
      "| area error              |     0         |\n",
      "| compactness error       |     0         |\n",
      "| concave points error    |     0         |\n",
      "| concavity error         |     0         |\n",
      "| fractal dimension error |     0         |\n",
      "| mean area               |     0         |\n",
      "| mean compactness        |     0         |\n",
      "| mean concavity          |     0         |\n",
      "| mean fractal dimension  |     0         |\n",
      "| mean perimeter          |     0         |\n",
      "| mean radius             |     0         |\n",
      "| mean smoothness         |     0         |\n",
      "| mean symmetry           |     0         |\n",
      "| mean texture            |     0         |\n",
      "| perimeter error         |     0         |\n",
      "| radius error            |     0         |\n",
      "| smoothness error        |     0         |\n",
      "| symmetry error          |     0         |\n",
      "| texture error           |     0         |\n",
      "| worst area              |     0         |\n",
      "| worst compactness       |     0         |\n",
      "| worst concavity         |     0         |\n",
      "| worst fractal dimension |     0         |\n",
      "| worst perimeter         |     0         |\n",
      "| worst smoothness        |     0         |\n",
      "| worst symmetry          |     0         |\n",
      "+-------------------------+---------------+\n",
      "Accuracy: 0.956140350877193\n",
      "Confusion Matrix:\n",
      "[[38  5]\n",
      " [ 0 71]]\n"
     ]
    }
   ],
   "source": [
    "import pandas as pd\n",
    "from sklearn.datasets import load_breast_cancer\n",
    "from sklearn.linear_model import Lasso\n",
    "from sklearn.model_selection import train_test_split\n",
    "from sklearn.metrics import accuracy_score, confusion_matrix\n",
    "from sklearn.preprocessing import StandardScaler\n",
    "from tabulate import tabulate\n",
    "\n",
    "# Load the breast cancer dataset\n",
    "data = load_breast_cancer()\n",
    "X = pd.DataFrame(data.data, columns=data.feature_names)\n",
    "y = pd.Series(data.target, name='target')\n",
    "\n",
    "# Split the dataset into training and testing sets\n",
    "X_train, X_test, y_train, y_test = train_test_split(X, y, test_size=0.2, random_state=42)\n",
    "\n",
    "# Standardize the features\n",
    "scaler = StandardScaler()\n",
    "X_train_scaled = scaler.fit_transform(X_train)\n",
    "X_test_scaled = scaler.transform(X_test)\n",
    "\n",
    "# Apply Lasso regularization\n",
    "lasso = Lasso(alpha=0.1)  # You can adjust alpha for stronger or weaker regularization\n",
    "lasso.fit(X_train_scaled, y_train)\n",
    "\n",
    "# Observe the coefficients\n",
    "coefficients = pd.DataFrame({'Feature': X.columns, 'Coefficient': lasso.coef_})\n",
    "# Set very small coefficients to exactly zero\n",
    "coefficients['Coefficient'] = coefficients['Coefficient'].apply(lambda x: 0 if abs(x) < 1e-5 else x)\n",
    "coefficients = coefficients.reindex(coefficients['Coefficient'].abs().sort_values(ascending=True).index)\n",
    "coefficients = coefficients.sort_values(by=['Coefficient', 'Feature'], ascending=[True, True])\n",
    "selected_features_lasso = coefficients[coefficients['Coefficient'] != 0]['Feature'].tolist()\n",
    "print(f\"Selected features using Lasso Regularization: {selected_features_lasso}\")\n",
    "\n",
    "# Display coefficients\n",
    "print(tabulate(coefficients, headers='keys', showindex=False, tablefmt='psql'))\n",
    "\n",
    "# Make predictions and evaluate the model\n",
    "y_pred = lasso.predict(X_test_scaled)\n",
    "y_pred_class = (y_pred >= 0.5).astype(int)  # Convert to binary classification\n",
    "\n",
    "accuracy = accuracy_score(y_test, y_pred_class)\n",
    "conf_matrix = confusion_matrix(y_test, y_pred_class)\n",
    "\n",
    "print(f\"Accuracy: {accuracy}\")\n",
    "print(\"Confusion Matrix:\")\n",
    "print(conf_matrix)\n"
   ]
  },
  {
   "cell_type": "markdown",
   "metadata": {},
   "source": [
    "#### b. L2 Ridge Regularization (Ridge Regression)"
   ]
  },
  {
   "cell_type": "code",
   "execution_count": 48,
   "metadata": {},
   "outputs": [
    {
     "name": "stdout",
     "output_type": "stream",
     "text": [
      "Top 5 features using Ridge Regularization: ['worst radius', 'worst area', 'mean compactness', 'worst perimeter', 'mean concave points']\n",
      "+-------------------------+---------------+\n",
      "| Feature                 |   Coefficient |\n",
      "|-------------------------+---------------|\n",
      "| worst radius            |   -0.790691   |\n",
      "| worst area              |    0.437734   |\n",
      "| mean compactness        |    0.234254   |\n",
      "| worst perimeter         |    0.196706   |\n",
      "| mean concave points     |   -0.18459    |\n",
      "| mean radius             |    0.183285   |\n",
      "| radius error            |   -0.146449   |\n",
      "| mean perimeter          |   -0.14281    |\n",
      "| concavity error         |    0.139473   |\n",
      "| worst concavity         |   -0.12651    |\n",
      "| concave points error    |   -0.108204   |\n",
      "| worst compactness       |   -0.104189   |\n",
      "| mean concavity          |   -0.0916966  |\n",
      "| worst concave points    |    0.0790364  |\n",
      "| area error              |    0.0739497  |\n",
      "| worst symmetry          |   -0.0685449  |\n",
      "| worst texture           |   -0.0605606  |\n",
      "| smoothness error        |   -0.05455    |\n",
      "| compactness error       |    0.0390919  |\n",
      "| mean fractal dimension  |   -0.0360516  |\n",
      "| mean area               |   -0.0299776  |\n",
      "| worst fractal dimension |   -0.0291553  |\n",
      "| perimeter error         |    0.0184964  |\n",
      "| mean symmetry           |    0.0124236  |\n",
      "| symmetry error          |    0.011932   |\n",
      "| mean texture            |   -0.0115462  |\n",
      "| mean smoothness         |    0.0087555  |\n",
      "| fractal dimension error |    0.0087255  |\n",
      "| texture error           |    0.0080431  |\n",
      "| worst smoothness        |   -0.00624582 |\n",
      "+-------------------------+---------------+\n",
      "Accuracy: 0.956140350877193\n",
      "Confusion Matrix:\n",
      "[[39  4]\n",
      " [ 1 70]]\n"
     ]
    }
   ],
   "source": [
    "import pandas as pd\n",
    "from sklearn.datasets import load_breast_cancer\n",
    "from sklearn.linear_model import Ridge\n",
    "from sklearn.model_selection import train_test_split\n",
    "from sklearn.metrics import accuracy_score, confusion_matrix\n",
    "from sklearn.preprocessing import StandardScaler\n",
    "from tabulate import tabulate\n",
    "\n",
    "# Load the breast cancer dataset\n",
    "data = load_breast_cancer()\n",
    "X = pd.DataFrame(data.data, columns=data.feature_names)\n",
    "y = pd.Series(data.target, name='target')\n",
    "\n",
    "# Split the dataset into training and testing sets\n",
    "X_train, X_test, y_train, y_test = train_test_split(X, y, test_size=0.2, random_state=42)\n",
    "\n",
    "# Standardize the features\n",
    "scaler = StandardScaler()\n",
    "X_train_scaled = scaler.fit_transform(X_train)\n",
    "X_test_scaled = scaler.transform(X_test)\n",
    "\n",
    "# Apply Ridge regularization\n",
    "ridge = Ridge(alpha=0.1)  # You can adjust alpha for stronger or weaker regularization\n",
    "ridge.fit(X_train_scaled, y_train)\n",
    "\n",
    "# Observe the coefficients\n",
    "coefficients = pd.DataFrame({'Feature': X.columns, 'Coefficient': ridge.coef_})\n",
    "# Set very small coefficients to exactly zero (though for Ridge, coefficients usually aren't zero)\n",
    "coefficients['Coefficient'] = coefficients['Coefficient'].apply(lambda x: 0 if abs(x) < 1e-5 else x)\n",
    "# Sort by absolute value of coefficients in descending order\n",
    "coefficients = coefficients.reindex(coefficients['Coefficient'].abs().sort_values(ascending=False).index)\n",
    "\n",
    "selected_features_ridge = coefficients[coefficients['Coefficient'] != 0]['Feature'].tolist()\n",
    "print(f\"Top 5 features using Ridge Regularization: {selected_features_ridge[0:5]}\")\n",
    "\n",
    "# Display coefficients\n",
    "print(tabulate(coefficients, headers='keys', showindex=False, tablefmt='psql'))\n",
    "\n",
    "# Make predictions and evaluate the model\n",
    "y_pred = ridge.predict(X_test_scaled)\n",
    "y_pred_class = (y_pred >= 0.5).astype(int)  # Convert to binary classification\n",
    "\n",
    "accuracy = accuracy_score(y_test, y_pred_class)\n",
    "conf_matrix = confusion_matrix(y_test, y_pred_class)\n",
    "\n",
    "print(f\"Accuracy: {accuracy}\")\n",
    "print(\"Confusion Matrix:\")\n",
    "print(conf_matrix)\n"
   ]
  },
  {
   "cell_type": "markdown",
   "metadata": {},
   "source": [
    "#### Elastic Net (L1 & L2)"
   ]
  },
  {
   "cell_type": "code",
   "execution_count": 45,
   "metadata": {},
   "outputs": [
    {
     "name": "stdout",
     "output_type": "stream",
     "text": [
      "Selected features using Elastic Net Regularization: ['worst concave points', 'worst radius', 'mean concave points', 'worst texture', 'worst perimeter', 'worst symmetry', 'worst smoothness']\n",
      "+-------------------------+---------------+\n",
      "| Feature                 |   Coefficient |\n",
      "|-------------------------+---------------|\n",
      "| worst concave points    |   -0.113208   |\n",
      "| worst radius            |   -0.0953203  |\n",
      "| mean concave points     |   -0.0754843  |\n",
      "| worst texture           |   -0.0517978  |\n",
      "| worst perimeter         |   -0.0466087  |\n",
      "| worst symmetry          |   -0.0205105  |\n",
      "| worst smoothness        |   -0.00269989 |\n",
      "| area error              |    0          |\n",
      "| compactness error       |    0          |\n",
      "| concave points error    |    0          |\n",
      "| concavity error         |    0          |\n",
      "| fractal dimension error |    0          |\n",
      "| mean area               |    0          |\n",
      "| mean compactness        |    0          |\n",
      "| mean concavity          |    0          |\n",
      "| mean fractal dimension  |    0          |\n",
      "| mean perimeter          |    0          |\n",
      "| mean radius             |    0          |\n",
      "| mean smoothness         |    0          |\n",
      "| mean symmetry           |    0          |\n",
      "| mean texture            |    0          |\n",
      "| perimeter error         |    0          |\n",
      "| radius error            |    0          |\n",
      "| smoothness error        |    0          |\n",
      "| symmetry error          |    0          |\n",
      "| texture error           |    0          |\n",
      "| worst area              |    0          |\n",
      "| worst compactness       |    0          |\n",
      "| worst concavity         |    0          |\n",
      "| worst fractal dimension |    0          |\n",
      "+-------------------------+---------------+\n",
      "Accuracy: 0.956140350877193\n",
      "Confusion Matrix:\n",
      "[[38  5]\n",
      " [ 0 71]]\n"
     ]
    }
   ],
   "source": [
    "import pandas as pd\n",
    "from sklearn.datasets import load_breast_cancer\n",
    "from sklearn.linear_model import ElasticNet\n",
    "from sklearn.model_selection import train_test_split\n",
    "from sklearn.metrics import accuracy_score, confusion_matrix\n",
    "from sklearn.preprocessing import StandardScaler\n",
    "from tabulate import tabulate\n",
    "\n",
    "# Load the breast cancer dataset\n",
    "data = load_breast_cancer()\n",
    "X = pd.DataFrame(data.data, columns=data.feature_names)\n",
    "y = pd.Series(data.target, name='target')\n",
    "\n",
    "# Split the dataset into training and testing sets\n",
    "X_train, X_test, y_train, y_test = train_test_split(X, y, test_size=0.2, random_state=42)\n",
    "\n",
    "# Standardize the features\n",
    "scaler = StandardScaler()\n",
    "X_train_scaled = scaler.fit_transform(X_train)\n",
    "X_test_scaled = scaler.transform(X_test)\n",
    "\n",
    "# Apply Elastic Net regularization\n",
    "elastic_net = ElasticNet(alpha=0.1, l1_ratio=0.5)  # You can adjust alpha and l1_ratio for stronger or weaker regularization\n",
    "elastic_net.fit(X_train_scaled, y_train)\n",
    "\n",
    "# Observe the coefficients\n",
    "coefficients = pd.DataFrame({'Feature': X.columns, 'Coefficient': elastic_net.coef_})\n",
    "# Set very small coefficients to exactly zero\n",
    "coefficients['Coefficient'] = coefficients['Coefficient'].apply(lambda x: 0 if abs(x) < 1e-5 else x)\n",
    "coefficients = coefficients.reindex(coefficients['Coefficient'].abs().sort_values(ascending=True).index)\n",
    "coefficients = coefficients.sort_values(by=['Coefficient', 'Feature'], ascending=[True, True])\n",
    "selected_features_elastic_net = coefficients[coefficients['Coefficient'] != 0]['Feature'].tolist()\n",
    "print(f\"Selected features using Elastic Net Regularization: {selected_features_elastic_net}\")\n",
    "\n",
    "# Display coefficients\n",
    "print(tabulate(coefficients, headers='keys', showindex=False, tablefmt='psql'))\n",
    "\n",
    "# Make predictions and evaluate the model\n",
    "y_pred = elastic_net.predict(X_test_scaled)\n",
    "y_pred_class = (y_pred >= 0.5).astype(int)  # Convert to binary classification\n",
    "\n",
    "accuracy = accuracy_score(y_test, y_pred_class)\n",
    "conf_matrix = confusion_matrix(y_test, y_pred_class)\n",
    "\n",
    "print(f\"Accuracy: {accuracy}\")\n",
    "print(\"Confusion Matrix:\")\n",
    "print(conf_matrix)\n"
   ]
  }
 ],
 "metadata": {
  "kernelspec": {
   "display_name": "Python 3",
   "language": "python",
   "name": "python3"
  },
  "language_info": {
   "codemirror_mode": {
    "name": "ipython",
    "version": 3
   },
   "file_extension": ".py",
   "mimetype": "text/x-python",
   "name": "python",
   "nbconvert_exporter": "python",
   "pygments_lexer": "ipython3",
   "version": "3.11.1"
  }
 },
 "nbformat": 4,
 "nbformat_minor": 2
}
