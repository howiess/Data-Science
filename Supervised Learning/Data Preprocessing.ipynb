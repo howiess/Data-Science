{
 "cells": [
  {
   "cell_type": "markdown",
   "metadata": {},
   "source": [
    "# Data Preprocessing\n",
    "\n",
    "### Here are some important things to understand for data preprocessing in supervised machine learning. \n",
    "\n",
    "### A general guide to data preprocessing: https://www.kaggle.com/code/farzadnekouei/flight-data-eda-to-preprocessing#Step-3-|-Dataset-Overview "
   ]
  },
  {
   "cell_type": "markdown",
   "metadata": {},
   "source": [
    "## Categorical Variables Encoding\n",
    "\n",
    "### Why:\n",
    "- Machine Learning Algorithms Require Numerical Input: <span style=\"color:orange;\">Most machine learning algorithms, particularly those based on mathematical computations such as linear regression, logistic regression, and support vector machines, require numerical input. These algorithms cannot directly process categorical data in their raw form</span>\n",
    "\n",
    "- Improves Model Performance: <span style=\"color:orange;\">Encoding categorical variables can help improve the performance of a model. Proper encoding allows the model to interpret categorical data correctly, leading to more accurate predictions. For instance, one-hot encoding can help the model treat each category as distinct, while ordinal encoding can preserve the order in ordinal data.</span>\n",
    "\n",
    "- Handles High Cardinality: <span style=\"color:orange;\">Encoding techniques like target encoding or frequency encoding can be beneficial when dealing with high cardinality categorical variables (i.e., variables with many unique categories). These techniques can help reduce dimensionality while still capturing important information from the categories.</span>\n",
    "\n",
    "- Prevents Ordinal Assumptions: <span style=\"color:orange;\">One-hot encoding prevents the model from assuming any ordinal relationship between categories that are nominal. For example, encoding colors (\"red\", \"green\", \"blue\") with one-hot encoding ensures that the model does not treat \"green\" as being between \"red\" and \"blue\".</span>\n",
    "\n",
    "- Enhances Interpretability: <span style=\"color:orange;\">Some encoding methods, such as target encoding, can enhance the interpretability of the model by linking categories directly to the target variable. This can be useful for understanding the impact of different categories on the prediction.</span>\n",
    "\n",
    "- Reduces Overfitting: <span style=\"color:orange;\">Encoding techniques can also help in reducing overfitting. For example, binary encoding reduces the number of features compared to one-hot encoding, which can help in preventing the model from memorizing the training data.</span>\n",
    "\n",
    "- Compatibility with Algorithms: <span style=\"color:orange;\">Certain algorithms, such as tree-based models (e.g., decision trees, random forests), can handle categorical data more flexibly. However, even for these algorithms, encoding can help in improving the efficiency and performance of the model.</span>\n",
    "\n",
    "- Data Consistency: <span style=\"color:orange;\">Encoding ensures that the data fed into the model is consistent and in a suitable format. This consistency is crucial for maintaining the integrity of the training process and ensuring reliable predictions.</span>"
   ]
  },
  {
   "cell_type": "code",
   "execution_count": 9,
   "metadata": {},
   "outputs": [],
   "source": [
    "# Import libraries  \n",
    "import numpy as np \n",
    "import pandas as pd \n",
    "from sklearn import preprocessing \n",
    "from tabulate import tabulate"
   ]
  },
  {
   "cell_type": "markdown",
   "metadata": {},
   "source": [
    "### Examples of Encoding\n",
    "\n",
    "**1. Label Encoding**\n",
    "- Description: Assigns each unique category a different integer value\n",
    "- Use Case: Suitable for ordinal categorical variables where the categories have an inherent order\n"
   ]
  },
  {
   "cell_type": "code",
   "execution_count": 14,
   "metadata": {},
   "outputs": [
    {
     "data": {
      "text/plain": [
       "array([0, 1, 2], dtype=int8)"
      ]
     },
     "execution_count": 14,
     "metadata": {},
     "output_type": "execute_result"
    }
   ],
   "source": [
    "cat_var = [\"low\", \"medium\", \"high\"]  \n",
    "cat_var = pd.Categorical(cat_var, categories=[\"low\", \"medium\", \"high\"], ordered=True) \n",
    "cat_var = cat_var.codes\n",
    "cat_var"
   ]
  },
  {
   "cell_type": "markdown",
   "metadata": {},
   "source": [
    "**2. One-Hot Encoding**\n",
    "- Description: Creates a new binary column for each category\n",
    "- Use Case: Suitable for nominal categorical variables with no intrinsic order"
   ]
  },
  {
   "cell_type": "code",
   "execution_count": 19,
   "metadata": {},
   "outputs": [
    {
     "name": "stdout",
     "output_type": "stream",
     "text": [
      "------\n",
      "apple\n",
      "banana\n",
      "melon\n",
      "orange\n",
      "------\n",
      "-  -  -  -\n",
      "1  0  0  0\n",
      "0  1  0  0\n",
      "0  0  1  0\n",
      "0  0  0  1\n",
      "-  -  -  -\n"
     ]
    }
   ],
   "source": [
    "from sklearn.preprocessing import OneHotEncoder\n",
    "\n",
    "cat_var = [[\"apple\"], [\"banana\"], [\"melon\"], [\"orange\"]] #requires 2d array for one-hot encoding\n",
    "print(tabulate(cat_var))\n",
    "encoder = OneHotEncoder(sparse_output=False)\n",
    "cat_var = encoder.fit_transform(cat_var)\n",
    "print(tabulate(cat_var))"
   ]
  },
  {
   "cell_type": "markdown",
   "metadata": {},
   "source": [
    "**3. Binary Encoding**\n",
    "- Description: Converts categories to binary digits and then splits them into separate columns\n",
    "- Use Case: Useful when there are a large number of categories and one-hot encoding would create too many columns"
   ]
  },
  {
   "cell_type": "code",
   "execution_count": 25,
   "metadata": {},
   "outputs": [
    {
     "name": "stdout",
     "output_type": "stream",
     "text": [
      "--  ------\n",
      " 0  green\n",
      " 1  red\n",
      " 2  blue\n",
      " 3  pink\n",
      " 4  black\n",
      " 5  white\n",
      " 6  brown\n",
      " 7  purple\n",
      " 8  yellow\n",
      " 9  grey\n",
      "10  wheat\n",
      "--  ------\n",
      "--  -  -  -  -\n",
      " 0  0  0  0  1\n",
      " 1  0  0  1  0\n",
      " 2  0  0  1  1\n",
      " 3  0  1  0  0\n",
      " 4  0  1  0  1\n",
      " 5  0  1  1  0\n",
      " 6  0  1  1  1\n",
      " 7  1  0  0  0\n",
      " 8  1  0  0  1\n",
      " 9  1  0  1  0\n",
      "10  1  0  1  1\n",
      "--  -  -  -  -\n"
     ]
    }
   ],
   "source": [
    "import category_encoders as ce\n",
    "\n",
    "df = pd.DataFrame({'cat_var':['green','red','blue','pink','black','white',\n",
    "           'brown','purple','yellow','grey','wheat']})\n",
    "print(tabulate(df))\n",
    "encoder = ce.BinaryEncoder(cols=['cat_var'])\n",
    "df = encoder.fit_transform(df)\n",
    "print(tabulate(df))\n"
   ]
  },
  {
   "cell_type": "markdown",
   "metadata": {},
   "source": [
    "**4. Frequency Encoding**\n",
    "- Description: Replaces each category with its frequency in the dataset\n",
    "- Use Case: When the frequency of categories can provide useful information to the model"
   ]
  },
  {
   "cell_type": "code",
   "execution_count": 31,
   "metadata": {},
   "outputs": [
    {
     "name": "stdout",
     "output_type": "stream",
     "text": [
      "-  -----\n",
      "0  blue\n",
      "1  red\n",
      "2  blue\n",
      "3  blue\n",
      "4  blue\n",
      "5  blue\n",
      "6  green\n",
      "7  red\n",
      "8  red\n",
      "9  blue\n",
      "-  -----\n",
      "-  ----\n",
      "0  0.45\n",
      "1  0.2\n",
      "2  0.45\n",
      "3  0.45\n",
      "4  0.45\n",
      "5  0.45\n",
      "6  0.35\n",
      "7  0.2\n",
      "8  0.2\n",
      "9  0.45\n",
      "-  ----\n"
     ]
    }
   ],
   "source": [
    "cat_var = np.random.choice(['green', 'blue', 'red'], size=20, p=[0.3, 0.5, 0.2]) #note: generate each number with frequency given independently\n",
    "df = pd.DataFrame({'cat_var': cat_var})\n",
    "print(tabulate(df.head(10)))\n",
    "df['cat_var'] = df['cat_var'].map(df['cat_var'].value_counts(normalize=True))\n",
    "print(tabulate(df.head(10)))"
   ]
  },
  {
   "cell_type": "markdown",
   "metadata": {},
   "source": [
    "**5. Target Encoding (Mean Encoding)**\n",
    "- Description: Replaces each category with the mean of the target variable for that category\n",
    "- Use Case: Useful for high cardinality categorical features, particularly in classification problems"
   ]
  },
  {
   "cell_type": "code",
   "execution_count": 33,
   "metadata": {},
   "outputs": [
    {
     "name": "stdout",
     "output_type": "stream",
     "text": [
      "-  -----  --\n",
      "0  blue    8\n",
      "1  blue    1\n",
      "2  green   8\n",
      "3  green   4\n",
      "4  blue   10\n",
      "5  blue    7\n",
      "6  red     1\n",
      "7  green   2\n",
      "8  green   2\n",
      "9  blue    9\n",
      "-  -----  --\n",
      "-  -----  --\n",
      "0  6.3     8\n",
      "1  6.3     1\n",
      "2  3.875   8\n",
      "3  3.875   4\n",
      "4  6.3    10\n",
      "5  6.3     7\n",
      "6  5       1\n",
      "7  3.875   2\n",
      "8  3.875   2\n",
      "9  6.3     9\n",
      "-  -----  --\n"
     ]
    }
   ],
   "source": [
    "cat_var = np.random.choice(['green', 'blue', 'red'], size=20, p=[0.3, 0.5, 0.2])\n",
    "target_var = np.random.randint(0, 11, size=20)\n",
    "df = pd.DataFrame({'cat_var': cat_var, 'target_var': target_var})\n",
    "print(tabulate(df.head(10)))\n",
    "target_mean = df.groupby('cat_var')['target_var'].mean()\n",
    "df['cat_var'] = df['cat_var'].map(target_mean)\n",
    "print(tabulate(df.head(10)))"
   ]
  },
  {
   "cell_type": "markdown",
   "metadata": {},
   "source": [
    "**6. Ordinal Encoding**\n",
    "- Description: Assigns each unique category an integer value, respecting the order\n",
    "- Use Case: Specifically for ordinal variables where categories have a defined order"
   ]
  },
  {
   "cell_type": "code",
   "execution_count": 42,
   "metadata": {},
   "outputs": [
    {
     "name": "stdout",
     "output_type": "stream",
     "text": [
      "------\n",
      "low\n",
      "medium\n",
      "high\n",
      "------\n",
      "-\n",
      "0\n",
      "1\n",
      "2\n",
      "-\n"
     ]
    }
   ],
   "source": [
    "from sklearn.preprocessing import OrdinalEncoder\n",
    "\n",
    "cat_var = [['low'], ['medium'], ['high']] #2-d array\n",
    "print(tabulate(cat_var))\n",
    "encoder = OrdinalEncoder(categories=[['low','medium','high']]) #order the category\n",
    "cat_var = encoder.fit_transform(cat_var)\n",
    "print(tabulate(cat_var))"
   ]
  },
  {
   "cell_type": "markdown",
   "metadata": {},
   "source": [
    "**7. Hashing Encoding**\n",
    "- Description: Applies a hash function to the category to convert it to a fixed-size vector\n",
    "- Use Case: Useful when the number of unique categories is very large\n",
    "- The number of components we use depends on many factors such as the size of the data and the number of unique categories"
   ]
  },
  {
   "cell_type": "code",
   "execution_count": 84,
   "metadata": {},
   "outputs": [
    {
     "name": "stdout",
     "output_type": "stream",
     "text": [
      "------\n",
      "green\n",
      "red\n",
      "blue\n",
      "pink\n",
      "black\n",
      "white\n",
      "brown\n",
      "purple\n",
      "yellow\n",
      "grey\n",
      "------\n",
      "-  ------  -  --  --  --  --  --  -\n",
      "0  green   0   0   0   0   0   1  0\n",
      "1  red     0   0  -1   0   0   0  0\n",
      "2  blue    0   0   0   0  -1   0  0\n",
      "3  pink    0   0   0   1   0   0  0\n",
      "4  black   0   0   0  -1   0   0  0\n",
      "5  white   0   0   0   0   0  -1  0\n",
      "6  brown   0   1   0   0   0   0  0\n",
      "7  purple  0   0   0   0   0   0  1\n",
      "8  yellow  0   0   0   0   1   0  0\n",
      "9  grey    0  -1   0   0   0   0  0\n",
      "-  ------  -  --  --  --  --  --  -\n"
     ]
    }
   ],
   "source": [
    "from sklearn.feature_extraction import FeatureHasher\n",
    "\n",
    "\n",
    "cat_var = [['green'], ['red'], ['blue'], ['pink'], ['black'], ['white'], ['brown'], ['purple'], ['yellow'], ['grey']]\n",
    "print(tabulate(cat_var))\n",
    "encoder = FeatureHasher(n_features=7, input_type='string')\n",
    "cat_var_encoded = encoder.transform(cat_var).toarray()\n",
    "df = pd.DataFrame(cat_var_encoded)\n",
    "df = pd.concat([pd.DataFrame(cat_var), df], axis=1)\n",
    "print(tabulate(df))"
   ]
  }
 ],
 "metadata": {
  "kernelspec": {
   "display_name": "Python 3",
   "language": "python",
   "name": "python3"
  },
  "language_info": {
   "codemirror_mode": {
    "name": "ipython",
    "version": 3
   },
   "file_extension": ".py",
   "mimetype": "text/x-python",
   "name": "python",
   "nbconvert_exporter": "python",
   "pygments_lexer": "ipython3",
   "version": "3.11.1"
  }
 },
 "nbformat": 4,
 "nbformat_minor": 2
}
