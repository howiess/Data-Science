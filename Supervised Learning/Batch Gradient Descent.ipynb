{
 "cells": [
  {
   "attachments": {},
   "cell_type": "markdown",
   "metadata": {},
   "source": [
    "### Gradient Descent\n",
    "\n",
    "&nbsp;\n",
    "\n",
    "Gradient descent is machine learning 101. Gradient refers to the derivative of a matrix in linear algebra. The basics of GD is similar to Ordinary Least Square. They are using the same approach to minimize the mean square error. The only difference is that OLS gets the global optima via inverse while GD gets the local optima via iteration. Theoretically, the computation of inverse matrix would be more costly than the convergence of iteration in a really large matrix. \n",
    "\n",
    "Assuming we have an equation $y=x\\theta+\\epsilon$, where $y,\\epsilon \\in \\mathbb{R}^m$, $x \\in \\mathbb{R}^{m \\times n}$ and $\\theta \\in \\mathbb{R}^{n}$.\n",
    "\n",
    "* OLS solves the problem by minimizing $J(\\theta)=(y-x\\theta)^T(y-x\\theta)$ with respect to $\\theta$. By setting the partial derivative $\\frac{\\partial J(\\theta)}{\\partial \\theta}=0$, we shall obtain $\\theta=(x^Tx)^{-1}x^Ty$. \n",
    "\n",
    "* GD solves the problem by iterations of $\\theta:=\\theta-\\alpha\\frac{\\partial J(\\theta)}{\\partial \\theta}$, where $\\alpha$ denotes the learning rate and $\\frac{\\partial J(\\theta)}{\\partial \\theta}=x^T(x\\theta-y)$.\n",
    "\n",
    "So when do we stop the iteration of GD? This is where data science becomes state of art. This is no definite way. We have to preset the threshold $\\tau$, and when the threshold $\\tau$ is beached, we declare the algorithm has converged. The threshold $\\tau$ could be the percentage/absolute change of the coefficients or objective functions or sum of squared errors from the last iteration. The optimal $\\tau$ should be small enough so we get a more accurate result but not too small to drag down the performance. And hyperparameter $\\alpha$ is also crucial to the success of the algorithm. If $\\alpha$ is too large, we would oscillate around the optima without convergence. On the contrary, a really small $\\alpha$ takes forever to reach the optima.\n",
    "\n",
    "The application of GD ranges from Independent Component Analysis to Neural Networks. As long as we can solve the objective function in closed form (otherwise we need Expectation Maximization), we can always apply GD instead of OLS or Maximum Logarithm Likelihood to outperform the computation of the inverse matrix. "
   ]
  },
  {
   "cell_type": "code",
   "execution_count": 2,
   "metadata": {},
   "outputs": [],
   "source": [
    "import numpy as np\n",
    "from sklearn.datasets import fetch_california_housing\n",
    "from sklearn.preprocessing import StandardScaler\n",
    "import matplotlib.pyplot as plt"
   ]
  },
  {
   "cell_type": "code",
   "execution_count": 3,
   "metadata": {},
   "outputs": [],
   "source": [
    "# Load the California housing dataset\n",
    "data = fetch_california_housing()\n",
    "X = data.data\n",
    "y = data.target.reshape(-1, 1)"
   ]
  },
  {
   "cell_type": "code",
   "execution_count": 4,
   "metadata": {},
   "outputs": [],
   "source": [
    "# Feature scaling\n",
    "scaler = StandardScaler()\n",
    "X = scaler.fit_transform(X)"
   ]
  },
  {
   "cell_type": "code",
   "execution_count": 5,
   "metadata": {},
   "outputs": [],
   "source": [
    "# Add a bias term (for theta_0)\n",
    "X = np.c_[np.ones(X.shape[0]), X]"
   ]
  },
  {
   "cell_type": "code",
   "execution_count": 36,
   "metadata": {},
   "outputs": [],
   "source": [
    "# Batch Gradient Descent\n",
    "# alpha denotes learning rate \n",
    "# alpha usually takes 0.05,0.03,0.01,0.005,0.003,0.001 etc\n",
    "# tau denotes the threshold of convergence\n",
    "# tau usually take 0.01,0.001,0.0001,0.00001\n",
    "# we should try different hyper parameters\n",
    "# we need to balance the tradeoff between precision and performance\n",
    "def bgd(X, Y, tau=0.001, alpha=0.00001, max_itr=1000, theta_init=[], diagnosis=True):\n",
    "    # initialize\n",
    "    counter = 0\n",
    "\n",
    "    # theta denotes coefficients\n",
    "    # initialize theta\n",
    "    if len(theta_init) > 0:\n",
    "        theta = theta_init\n",
    "    else:\n",
    "        theta = np.ones((X.shape[1], 1))\n",
    "\n",
    "    # residuals or you can call it objective function\n",
    "    epsilons = []\n",
    "\n",
    "    # collect thetas for viz\n",
    "    thetas = [theta.copy()]\n",
    "\n",
    "    # iterate through the entire dataset\n",
    "    while counter < max_itr:\n",
    "        x = X.copy()\n",
    "        y = Y.copy()\n",
    "\n",
    "        # gradient descent\n",
    "        y_estimated = x @ theta\n",
    "        epsilon = y_estimated - y\n",
    "        gradient = x.T @ epsilon\n",
    "        theta -= alpha * gradient\n",
    "\n",
    "        # tracking\n",
    "        counter += 1\n",
    "        epsilons.append(np.mean(epsilon**2))\n",
    "        thetas.append(theta.copy())\n",
    "\n",
    "        # Early stopping based on gradient magnitude or parameter magnitude\n",
    "        if np.linalg.norm(gradient) > 1e5 or np.linalg.norm(theta) > 1e5:\n",
    "            if diagnosis:\n",
    "                print(f'Stopping early due to divergence.')\n",
    "            return theta, thetas, epsilons\n",
    "\n",
    "        # convergence\n",
    "        if len(epsilons) > 1 and abs(epsilons[-1] - epsilons[-2]) < tau:\n",
    "            if diagnosis:\n",
    "                print(f'Converged after {counter} iterations.')\n",
    "            return theta, thetas, epsilons\n",
    "\n",
    "    if diagnosis:\n",
    "        print(f'Not converged.')\n",
    "    return theta, thetas, epsilons"
   ]
  },
  {
   "cell_type": "code",
   "execution_count": 39,
   "metadata": {},
   "outputs": [
    {
     "name": "stdout",
     "output_type": "stream",
     "text": [
      "Converged after 94 iterations.\n",
      "[ 2.06855817  0.93894889  0.18582035 -0.38498553  0.36617297  0.01847699\n",
      " -0.04733103 -0.30831618 -0.28748253]\n"
     ]
    }
   ],
   "source": [
    "# Use the bgd function\n",
    "theta, thetas, epsilons = bgd(X, y)\n",
    "print(theta.ravel())"
   ]
  },
  {
   "cell_type": "code",
   "execution_count": 40,
   "metadata": {},
   "outputs": [
    {
     "data": {
      "image/png": "[encoded data removed]",
      "text/plain": [
       "<Figure size 640x480 with 1 Axes>"
      ]
     },
     "metadata": {},
     "output_type": "display_data"
    }
   ],
   "source": [
    "# Plot the MSE\n",
    "plt.plot(epsilons)\n",
    "plt.xlabel('Iteration')\n",
    "plt.ylabel('MSE')\n",
    "plt.title('Batch Gradient Descent using California Housing Dataset')\n",
    "plt.show()\n",
    "\n",
    "\n",
    "# We first load the California Housing dataset and standardize the features.\n",
    "# We then initialize the model parameters and set the learning rate and number of iterations.\n",
    "# In each iteration of the Batch Gradient Descent, we compute the gradient of the cost function with respect to the parameters and update the parameters.\n",
    "# We also keep track of the cost (MSE) at each iteration and plot it at the end.\n",
    "# The decreasing curve of the MSE in the plot indicates that the Batch Gradient Descent is working correctly and optimizing the parameters of the linear regression model.\n"
   ]
  }
 ],
 "metadata": {
  "kernelspec": {
   "display_name": "Python 3",
   "language": "python",
   "name": "python3"
  },
  "language_info": {
   "codemirror_mode": {
    "name": "ipython",
    "version": 3
   },
   "file_extension": ".py",
   "mimetype": "text/x-python",
   "name": "python",
   "nbconvert_exporter": "python",
   "pygments_lexer": "ipython3",
   "version": "3.11.2"
  },
  "orig_nbformat": 4
 },
 "nbformat": 4,
 "nbformat_minor": 2
}
