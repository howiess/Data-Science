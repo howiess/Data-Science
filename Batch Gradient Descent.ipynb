{
 "cells": [
  {
   "cell_type": "code",
   "execution_count": 1,
   "metadata": {},
   "outputs": [],
   "source": [
    "import numpy as np\n",
    "import matplotlib.pyplot as plt\n",
    "import sklearn.linear_model\n",
    "import sklearn.decomposition\n",
    "import sklearn.datasets\n",
    "from mpl_toolkits.mplot3d import Axes3D"
   ]
  },
  {
   "cell_type": "code",
   "execution_count": 21,
   "metadata": {},
   "outputs": [
    {
     "data": {
      "text/plain": [
       "((442, 10), (442,))"
      ]
     },
     "execution_count": 21,
     "metadata": {},
     "output_type": "execute_result"
    }
   ],
   "source": [
    "# Load the diabetes dataset\n",
    "X, Y = sklearn.datasets.load_diabetes(return_X_y=True)\n",
    "\n",
    "# Checking the shape of the input and target variables\n",
    "X.shape, Y.shape"
   ]
  },
  {
   "cell_type": "code",
   "execution_count": 22,
   "metadata": {},
   "outputs": [
    {
     "data": {
      "text/plain": [
       "(array([152.13348416,  39.86560456,  -5.23315306, 163.55598691,\n",
       "        117.07649249,  37.94650866,  26.25520077, -99.68907194,\n",
       "         99.01302838, 149.76583352,  91.72849093]),\n",
       " [14459.451654244092,\n",
       "  12273.096994095267,\n",
       "  10501.781968623465,\n",
       "  9066.649643741293,\n",
       "  7903.825901788356])"
      ]
     },
     "execution_count": 22,
     "metadata": {},
     "output_type": "execute_result"
    }
   ],
   "source": [
    "\n",
    "# Adding a bias term to the input\n",
    "X_bias = np.c_[np.ones(X.shape[0]), X]\n",
    "\n",
    "# Initializing weights (including bias)\n",
    "np.random.seed(42)\n",
    "weights = np.random.randn(X_bias.shape[1])\n",
    "\n",
    "# Hyperparameters\n",
    "learning_rate = 0.1\n",
    "iterations = 1000\n",
    "\n",
    "# Storing the loss values to visualize later\n",
    "loss_history = []\n",
    "\n",
    "# Batch gradient descent algorithm\n",
    "for iteration in range(iterations):\n",
    "    # Compute predictions\n",
    "    predictions = X_bias.dot(weights)\n",
    "    \n",
    "    # Compute loss (mean squared error)\n",
    "    loss = np.mean((predictions - Y) ** 2) / 2\n",
    "    loss_history.append(loss)\n",
    "    \n",
    "    # Compute gradients\n",
    "    gradients = X_bias.T.dot(predictions - Y) / X.shape[0]\n",
    "    \n",
    "    # Update weights\n",
    "    weights -= learning_rate * gradients\n",
    "\n",
    "# Final weights and loss history\n",
    "weights, loss_history[:5]"
   ]
  }
 ],
 "metadata": {
  "kernelspec": {
   "display_name": "Python 3",
   "language": "python",
   "name": "python3"
  },
  "language_info": {
   "codemirror_mode": {
    "name": "ipython",
    "version": 3
   },
   "file_extension": ".py",
   "mimetype": "text/x-python",
   "name": "python",
   "nbconvert_exporter": "python",
   "pygments_lexer": "ipython3",
   "version": "3.11.2"
  },
  "orig_nbformat": 4
 },
 "nbformat": 4,
 "nbformat_minor": 2
}
